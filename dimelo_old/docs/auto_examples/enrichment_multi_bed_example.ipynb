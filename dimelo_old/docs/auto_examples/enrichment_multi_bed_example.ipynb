{
  "cells": [
    {
      "cell_type": "code",
      "execution_count": null,
      "metadata": {
        "collapsed": false
      },
      "outputs": [],
      "source": [
        "%matplotlib inline"
      ]
    },
    {
      "cell_type": "markdown",
      "metadata": {},
      "source": [
        "\n# Enrichment Plot Comparison Across BEDs\n\nPlot overall fraction of methylated bases within multiple sets of regions of interest specified by bed files for a single sample.\n"
      ]
    },
    {
      "cell_type": "markdown",
      "metadata": {},
      "source": [
        "Create barplot comparing methylation levels in single sample across multiple regions of interest defined in bed files.\n\n"
      ]
    },
    {
      "cell_type": "markdown",
      "metadata": {},
      "source": [
        "## 1. Python option\n\n"
      ]
    },
    {
      "cell_type": "code",
      "execution_count": null,
      "metadata": {
        "collapsed": false
      },
      "outputs": [],
      "source": [
        "import dimelo as dm\n\nbam = \"deep_ctcf_mod_mappings_merge.sorted.bam\"\nbeds = [\"q10.150.slop.bed\", \"q10nopeak.bed\"]\nsampleNames = [\"chip_peak\", \"not_chip_peak\"]\noutDir = \"./out\"\ndm.plot_enrichment(bam, sampleNames, beds, \"A\", outDir, threshA=190)"
      ]
    },
    {
      "cell_type": "markdown",
      "metadata": {},
      "source": [
        "## 2. Command line option\n``dimelo-plot-enrichment -f deep_ctcf_mod_mappings_merge.sorted.bam -s chip_peak not_chip_peak -b q10.150.slop.bed q10nopeak.bed -m A -o ./out -A 190``\n\n"
      ]
    },
    {
      "cell_type": "markdown",
      "metadata": {},
      "source": [
        "## Output\n.. figure:: ../auto_examples/images/sample_deep_ctcf_mod_mappings_merge.sorted_A_enrichment_barplot.png\n\n"
      ]
    }
  ],
  "metadata": {
    "kernelspec": {
      "display_name": "Python 3",
      "language": "python",
      "name": "python3"
    },
    "language_info": {
      "codemirror_mode": {
        "name": "ipython",
        "version": 3
      },
      "file_extension": ".py",
      "mimetype": "text/x-python",
      "name": "python",
      "nbconvert_exporter": "python",
      "pygments_lexer": "ipython3",
      "version": "3.7.11"
    }
  },
  "nbformat": 4,
  "nbformat_minor": 0
}