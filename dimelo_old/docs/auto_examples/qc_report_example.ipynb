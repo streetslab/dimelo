{
  "cells": [
    {
      "cell_type": "code",
      "execution_count": null,
      "metadata": {
        "collapsed": false
      },
      "outputs": [],
      "source": [
        "%matplotlib inline"
      ]
    },
    {
      "cell_type": "markdown",
      "metadata": {},
      "source": [
        "\n# QC Report\n\nOutputs quality control report from given bam files.\n"
      ]
    },
    {
      "cell_type": "markdown",
      "metadata": {},
      "source": [
        "Usually as a first step after receiving bam files, we want to do a quality check\nand assess our data. This code generates a PDF report of important QC statistics\nfor modified base data from Nanopore sequencing.\n\n"
      ]
    },
    {
      "cell_type": "markdown",
      "metadata": {},
      "source": [
        "## 1. Python option\n\n"
      ]
    },
    {
      "cell_type": "code",
      "execution_count": null,
      "metadata": {
        "collapsed": false
      },
      "outputs": [],
      "source": [
        "import dimelo as dm\n\n# first we specify the locations of our bam files\nbam = \"winnowmap_guppy_merge_subset.bam\"\nsampleName = \"CTCF\"\noutdir = \"./out\"\n\n# next we run the \"qc_report\" function\ndm.qc_report(bam, sampleName, outdir)\n# now our output directory will have a file called \"CTCF_qc_report.pdf\""
      ]
    },
    {
      "cell_type": "markdown",
      "metadata": {},
      "source": [
        "## 2. Command line option\n``dimelo-qc-report -f winnowmap_guppy_merge_subset.bam -s CTCF -o ./out``\n\n"
      ]
    },
    {
      "cell_type": "markdown",
      "metadata": {},
      "source": [
        "## Output\n.. figure:: ../auto_examples/images/QC_Terminal_Output.png\n.. figure:: ../auto_examples/images/CTCF_qc_report.png\n\n"
      ]
    }
  ],
  "metadata": {
    "kernelspec": {
      "display_name": "Python 3",
      "language": "python",
      "name": "python3"
    },
    "language_info": {
      "codemirror_mode": {
        "name": "ipython",
        "version": 3
      },
      "file_extension": ".py",
      "mimetype": "text/x-python",
      "name": "python",
      "nbconvert_exporter": "python",
      "pygments_lexer": "ipython3",
      "version": "3.7.11"
    }
  },
  "nbformat": 4,
  "nbformat_minor": 0
}