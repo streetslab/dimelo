{
  "cells": [
    {
      "cell_type": "code",
      "execution_count": null,
      "metadata": {
        "collapsed": false
      },
      "outputs": [],
      "source": [
        "%matplotlib inline"
      ]
    },
    {
      "cell_type": "markdown",
      "metadata": {},
      "source": [
        "\n# Enrichment Profile Overlay\n\nAggregate fraction of methylated bases centered at regions of interest defined in bed files.\n"
      ]
    },
    {
      "cell_type": "markdown",
      "metadata": {},
      "source": [
        "Create (1) aggregate profile plots for mA/A and mCG/CG, (2) single-molecule plots for mA + mCG, and (3) base abundance plots for A and CG.\n\n"
      ]
    },
    {
      "cell_type": "markdown",
      "metadata": {},
      "source": [
        "## 1. Python option\n\n"
      ]
    },
    {
      "cell_type": "code",
      "execution_count": null,
      "metadata": {
        "collapsed": false
      },
      "outputs": [],
      "source": [
        "import dimelo as dm\n\nbam = \"deep_ctcf_mod_mappings_merge.sorted.bam\"\nsampleNames = [\"q4\", \"q3\", \"q2\", \"q1\"]\nbeds = [\"quart4.bed\", \"quart3.bed\", \"quart2.bed\", \"quart1.bed\"]\noutDir = \"./out\"\ndm.plot_enrichment_profile(\n    bam, sampleNames, beds, \"A\", outDir, threshA=190, dotsize=0.05\n)"
      ]
    },
    {
      "cell_type": "markdown",
      "metadata": {},
      "source": [
        "## 2. Command line option\n``dimelo-plot-enrichment-profile -f deep_ctcf_mod_mappings_merge.sorted.bam -s q4 q3 q2 q1 -b quart4.bed quart3.bed quart2.bed quart1.bed -m A -o ./out -A 190 -d 0.05``\n\n"
      ]
    },
    {
      "cell_type": "markdown",
      "metadata": {},
      "source": [
        "## Output\n.. figure:: ../auto_examples/images/sample_deep_ctcf_mod_mappings_merge.sorted_A_sm_rolling_avg_overlay.png\n    :align: center\n\n"
      ]
    }
  ],
  "metadata": {
    "kernelspec": {
      "display_name": "Python 3",
      "language": "python",
      "name": "python3"
    },
    "language_info": {
      "codemirror_mode": {
        "name": "ipython",
        "version": 3
      },
      "file_extension": ".py",
      "mimetype": "text/x-python",
      "name": "python",
      "nbconvert_exporter": "python",
      "pygments_lexer": "ipython3",
      "version": "3.7.11"
    }
  },
  "nbformat": 4,
  "nbformat_minor": 0
}