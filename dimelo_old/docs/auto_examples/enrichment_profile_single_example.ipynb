{
  "cells": [
    {
      "cell_type": "code",
      "execution_count": null,
      "metadata": {
        "collapsed": false
      },
      "outputs": [],
      "source": [
        "%matplotlib inline"
      ]
    },
    {
      "cell_type": "markdown",
      "metadata": {},
      "source": [
        "\n# Enrichment Profile mA only\n\nPlot single molecules centered at regions of interest defined in bed file and produce aggregate profile\n"
      ]
    },
    {
      "cell_type": "markdown",
      "metadata": {},
      "source": [
        "Create (1) aggregate profile plots for mA/A, (2) single-molecule plots for mA, and (3) base abundance plots for A.\n\n"
      ]
    },
    {
      "cell_type": "markdown",
      "metadata": {},
      "source": [
        "## 1. Python option\n\n"
      ]
    },
    {
      "cell_type": "code",
      "execution_count": null,
      "metadata": {
        "collapsed": false
      },
      "outputs": [],
      "source": [
        "import dimelo as dm\n\nbam = \"deep_ctcf_mod_mappings_merge.sorted.bam\"\nsampleName = \"quartile4\"\nbed = \"quart4.bed\"\noutDir = \"./out\"\ndm.plot_enrichment_profile(\n    bam, sampleName, bed, \"A\", outDir, threshA=190, dotsize=0.05\n)"
      ]
    },
    {
      "cell_type": "markdown",
      "metadata": {},
      "source": [
        "## 2. Command line option\n``dimelo-plot-enrichment-profile -f deep_ctcf_mod_mappings_merge.sorted.bam -s quartile4 -b quart4.bed -m A -o ./out -A 190 -d 0.05``\n\n"
      ]
    },
    {
      "cell_type": "markdown",
      "metadata": {},
      "source": [
        "## Output\n.. figure:: ../auto_examples/images/quartile4_A_sm_rolling_avg.png\n    :align: center\n.. figure:: ../auto_examples/images/quartile4_A_sm_scatter.png\n.. figure:: ../auto_examples/images/quartile4_A_base_count.png\n\n"
      ]
    }
  ],
  "metadata": {
    "kernelspec": {
      "display_name": "Python 3",
      "language": "python",
      "name": "python3"
    },
    "language_info": {
      "codemirror_mode": {
        "name": "ipython",
        "version": 3
      },
      "file_extension": ".py",
      "mimetype": "text/x-python",
      "name": "python",
      "nbconvert_exporter": "python",
      "pygments_lexer": "ipython3",
      "version": "3.7.11"
    }
  },
  "nbformat": 4,
  "nbformat_minor": 0
}