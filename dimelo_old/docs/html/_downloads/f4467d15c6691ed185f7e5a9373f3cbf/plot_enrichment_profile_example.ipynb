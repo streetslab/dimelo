{
  "cells": [
    {
      "cell_type": "code",
      "execution_count": null,
      "metadata": {
        "collapsed": false
      },
      "outputs": [],
      "source": [
        "%matplotlib inline"
      ]
    },
    {
      "cell_type": "markdown",
      "metadata": {},
      "source": [
        "\n# Enrichment Profile Plot Example\n\nThis plots single molecules centered at regions of interest defined in bed file and produces aggregate profile\n"
      ]
    },
    {
      "cell_type": "markdown",
      "metadata": {},
      "source": [
        "## Plotting Enrichment Profile\nadd description here\n\n"
      ]
    },
    {
      "cell_type": "code",
      "execution_count": null,
      "metadata": {
        "collapsed": false
      },
      "outputs": [],
      "source": [
        "import dimelo as dm\n\ninput_bam = \"../../dimelo/test/data/mod_mappings_subset.bam\"\nsample_names = [\"test1\", \"test2\"]\nregions = [\n    \"../../dimelo/test/data/test.bed\",\n    \"../../dimelo/test/data/test.bed\",\n]\noutDir = \"../../dimelo/dimelo_test\"\ndm.plot_enrichment_profile(\n    input_bam, sample_names, regions, \"A\", outDir, windowSize=500, dotsize=1\n)\n\n# This will return an aggregate profile of fraction of bases\n# modified centered at features of interest"
      ]
    }
  ],
  "metadata": {
    "kernelspec": {
      "display_name": "Python 3",
      "language": "python",
      "name": "python3"
    },
    "language_info": {
      "codemirror_mode": {
        "name": "ipython",
        "version": 3
      },
      "file_extension": ".py",
      "mimetype": "text/x-python",
      "name": "python",
      "nbconvert_exporter": "python",
      "pygments_lexer": "ipython3",
      "version": "3.7.11"
    }
  },
  "nbformat": 4,
  "nbformat_minor": 0
}