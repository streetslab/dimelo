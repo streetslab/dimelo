{
  "cells": [
    {
      "cell_type": "code",
      "execution_count": null,
      "metadata": {
        "collapsed": false
      },
      "outputs": [],
      "source": [
        "%matplotlib inline"
      ]
    },
    {
      "cell_type": "markdown",
      "metadata": {},
      "source": [
        "\n# Enrichment Plot Example\n\nThis plots the fraction of bases modified within regions of interest defined by a bed file\n"
      ]
    },
    {
      "cell_type": "markdown",
      "metadata": {},
      "source": [
        "## Plotting Enrichment\nadd description here\n\n"
      ]
    },
    {
      "cell_type": "code",
      "execution_count": null,
      "metadata": {
        "collapsed": false
      },
      "outputs": [],
      "source": [
        "import dimelo as dm\n\ninput_bams = [\n    \"../../dimelo/test/data/mod_mappings_subset.bam\",\n    \"../../dimelo/test/data/mod_mappings_subset.bam\",\n]\nsample_names = [\"test1\", \"test2\"]\nregions = \"../../dimelo/test/data/test.bed\"\noutDir = \"../../dimelo/dimelo_test\"\ndm.plot_enrichment(\n    input_bams, sample_names, regions, \"CG\", outDir, threshC=129\n)\n\n# This will return a barplot with overall fraction of bases\n# modified within regions of interest specified by bedFile(s)"
      ]
    }
  ],
  "metadata": {
    "kernelspec": {
      "display_name": "Python 3",
      "language": "python",
      "name": "python3"
    },
    "language_info": {
      "codemirror_mode": {
        "name": "ipython",
        "version": 3
      },
      "file_extension": ".py",
      "mimetype": "text/x-python",
      "name": "python",
      "nbconvert_exporter": "python",
      "pygments_lexer": "ipython3",
      "version": "3.7.11"
    }
  },
  "nbformat": 4,
  "nbformat_minor": 0
}