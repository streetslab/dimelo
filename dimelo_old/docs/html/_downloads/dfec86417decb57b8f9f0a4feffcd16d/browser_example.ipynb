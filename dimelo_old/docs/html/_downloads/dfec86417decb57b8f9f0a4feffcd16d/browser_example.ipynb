{
  "cells": [
    {
      "cell_type": "code",
      "execution_count": null,
      "metadata": {
        "collapsed": false
      },
      "outputs": [],
      "source": [
        "%matplotlib inline"
      ]
    },
    {
      "cell_type": "markdown",
      "metadata": {},
      "source": [
        "\n# Single-Molecule Browser Plot\n\nPlot single molecules with colored base modifications in a region of interest\n"
      ]
    },
    {
      "cell_type": "markdown",
      "metadata": {},
      "source": [
        "Create either an interactive single-molecule HTML browser if static=False, or create a PDF if static=True.\nBase modifications are colored by type (mA vs. mCG) and probability of modification.\nExample data for producing these plots can be downloaded from SRA: https://www.ncbi.nlm.nih.gov/bioproject/752170\nThe below Python and command line options produce the same output.\n\n"
      ]
    },
    {
      "cell_type": "markdown",
      "metadata": {},
      "source": [
        "## 1. Python option\n\n"
      ]
    },
    {
      "cell_type": "code",
      "execution_count": null,
      "metadata": {
        "collapsed": false
      },
      "outputs": [],
      "source": [
        "import dimelo as dm\n\nbam = \"deep_ctcf_mod_mappings_merge.sorted.bam\"\nsampleName = \"CTCF\"\noutDir = \"./out\"\ndm.plot_browser(\n    bam,\n    sampleName,\n    \"chr11:2086423-2091187\",\n    \"A+CG\",\n    outDir,\n    threshA=153,\n    threshC=153,\n    static=True,\n    smooth=100,\n    min_periods=10,\n)"
      ]
    },
    {
      "cell_type": "markdown",
      "metadata": {},
      "source": [
        "## 2. Command line option\n``dimelo-plot-browser -f deep_ctcf_mod_mappings_merge.sorted.bam -s CTCF -r chr11:2086423-2091187 -m A+CG -o ./out -A 153 -C 153 --static -t 100 -n 10``\n\n"
      ]
    },
    {
      "cell_type": "markdown",
      "metadata": {},
      "source": [
        "## Output\n.. figure:: ../auto_examples/images/methylation_browser_chr11_2086423_2091187.png\n    :align: center\n.. figure:: ../auto_examples/images/CTCF_A_sm_rolling_avg_fraction.png\n    :align: center\n.. figure:: ../auto_examples/images/CTCF_A_sm_rolling_avg_total.png\n    :align: center\n.. figure:: ../auto_examples/images/CTCF_CG_sm_rolling_avg_fraction.png\n    :align: center\n.. figure:: ../auto_examples/images/CTCF_CG_sm_rolling_avg_total.png\n    :align: center\n\n"
      ]
    }
  ],
  "metadata": {
    "kernelspec": {
      "display_name": "Python 3",
      "language": "python",
      "name": "python3"
    },
    "language_info": {
      "codemirror_mode": {
        "name": "ipython",
        "version": 3
      },
      "file_extension": ".py",
      "mimetype": "text/x-python",
      "name": "python",
      "nbconvert_exporter": "python",
      "pygments_lexer": "ipython3",
      "version": "3.7.11"
    }
  },
  "nbformat": 4,
  "nbformat_minor": 0
}