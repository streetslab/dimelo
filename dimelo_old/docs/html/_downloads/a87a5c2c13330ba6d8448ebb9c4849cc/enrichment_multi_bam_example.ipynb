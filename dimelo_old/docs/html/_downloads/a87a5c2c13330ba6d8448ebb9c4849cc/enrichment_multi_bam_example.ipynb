{
  "cells": [
    {
      "cell_type": "code",
      "execution_count": null,
      "metadata": {
        "collapsed": false
      },
      "outputs": [],
      "source": [
        "%matplotlib inline"
      ]
    },
    {
      "cell_type": "markdown",
      "metadata": {},
      "source": [
        "\n# Enrichment Plot Comparison Across BAMs\n\nPlot overall fraction of methylated bases within regions of interest specified by bed file across multiple samples.\n"
      ]
    },
    {
      "cell_type": "markdown",
      "metadata": {},
      "source": [
        "Create barplot comparing methylation levels in bed file regions of interest across samples\n\n"
      ]
    },
    {
      "cell_type": "markdown",
      "metadata": {},
      "source": [
        "## 1. Python option\n\n"
      ]
    },
    {
      "cell_type": "code",
      "execution_count": null,
      "metadata": {
        "collapsed": false
      },
      "outputs": [],
      "source": [
        "import dimelo as dm\n\nbams = [\n    \"deep_ctcf_mod_mappings_merge.sorted.bam\",\n    \"hia5_mod_mappings.bam\",\n    \"igg_mod_mappings.bam\",\n]\nsampleNames = [\"CTCF\", \"Hia5\", \"IgG\"]\nbed = \"q10.150.slop.bed\"\noutDir = \"./out\"\ndm.plot_enrichment(bams, sampleNames, bed, \"A\", outDir, threshA=190)"
      ]
    },
    {
      "cell_type": "markdown",
      "metadata": {},
      "source": [
        "## 2. Command line option\n``dimelo-plot-enrichment -f deep_ctcf_mod_mappings_merge.sorted.bam hia5_mod_mappings.bam igg_mod_mappings.bam -s CTCF Hia5 IgG -b q10.150.slop.bed -m A -o ./out -A 190``\n\n"
      ]
    },
    {
      "cell_type": "markdown",
      "metadata": {},
      "source": [
        "## Output\n.. figure:: ../auto_examples/images/region_q10.150.slop_A_enrichment_barplot.png\n\n"
      ]
    }
  ],
  "metadata": {
    "kernelspec": {
      "display_name": "Python 3",
      "language": "python",
      "name": "python3"
    },
    "language_info": {
      "codemirror_mode": {
        "name": "ipython",
        "version": 3
      },
      "file_extension": ".py",
      "mimetype": "text/x-python",
      "name": "python",
      "nbconvert_exporter": "python",
      "pygments_lexer": "ipython3",
      "version": "3.7.11"
    }
  },
  "nbformat": 4,
  "nbformat_minor": 0
}