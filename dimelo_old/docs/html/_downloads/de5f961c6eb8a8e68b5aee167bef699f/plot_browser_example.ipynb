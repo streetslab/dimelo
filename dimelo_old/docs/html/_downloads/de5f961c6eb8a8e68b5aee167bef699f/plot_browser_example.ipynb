{
  "cells": [
    {
      "cell_type": "code",
      "execution_count": null,
      "metadata": {
        "collapsed": false
      },
      "outputs": [],
      "source": [
        "%matplotlib inline"
      ]
    },
    {
      "cell_type": "markdown",
      "metadata": {},
      "source": [
        "\n# Browser Plot Example\n\nThis plots single molecules with colored base modifications in region of interest\n"
      ]
    },
    {
      "cell_type": "markdown",
      "metadata": {},
      "source": [
        "## Plotting Browser\nadd description here\n\n"
      ]
    },
    {
      "cell_type": "code",
      "execution_count": null,
      "metadata": {
        "collapsed": false
      },
      "outputs": [],
      "source": [
        "import dimelo as dm\n\ninput_bam = \"../../dimelo/test/data/mod_mappings_subset.bam\"\nsample_name = \"test\"\nregion = \"chr1:2907273-2909473\"\noutDir = \"../../dimelo/dimelo_test\"\ndm.plot_browser(input_bam, sample_name, region, \"A+CG\", outDir, static=True)\n\n# This will return an HTML file with single molecules displayed o\n# ver region of interest. Modified bases are colored according to colorA and colorC.\n# To return a PDF file, set static = True"
      ]
    }
  ],
  "metadata": {
    "kernelspec": {
      "display_name": "Python 3",
      "language": "python",
      "name": "python3"
    },
    "language_info": {
      "codemirror_mode": {
        "name": "ipython",
        "version": 3
      },
      "file_extension": ".py",
      "mimetype": "text/x-python",
      "name": "python",
      "nbconvert_exporter": "python",
      "pygments_lexer": "ipython3",
      "version": "3.7.11"
    }
  },
  "nbformat": 4,
  "nbformat_minor": 0
}