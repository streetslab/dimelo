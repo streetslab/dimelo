{
 "cells": [
  {
   "cell_type": "code",
   "execution_count": 1,
   "id": "f2306918",
   "metadata": {},
   "outputs": [
    {
     "name": "stdout",
     "output_type": "stream",
     "text": [
      "Default Linux configuration: ../dependencies/linux for executables.\n"
     ]
    }
   ],
   "source": [
    "from dimelo.parse_bam import *\n",
    "import sys\n",
    "import os\n",
    "import matplotlib.pyplot as plt\n",
    "import h5py\n",
    "\n",
    "\n",
    "from dimelo.plot_single_reads import *"
   ]
  },
  {
   "cell_type": "code",
   "execution_count": null,
   "id": "06b01fbd",
   "metadata": {},
   "outputs": [],
   "source": [
    "!../dependencies/modkit/modkit update-tags \\\n",
    "/clusterfs/nilah/oberon/cd55_cas9/cas9_12ef_101923_misha_mod_mappings.sorted_mC_only.bam \\\n",
    "/clusterfs/nilah/oberon/dimelo_dev_source/test_inputs/deep_ctcf_mod_mappings_merge.retagged.sorted.bam \\\n",
    "--threads 32 --mode ambiguous \\\n",
    "--log-filepath /clusterfs/nilah/oberon/dimelo_dev_source/test_inputs/update_tags.log\n",
    "\n"
   ]
  },
  {
   "cell_type": "code",
   "execution_count": 2,
   "id": "1ba63aa6",
   "metadata": {},
   "outputs": [
    {
     "name": "stdout",
     "output_type": "stream",
     "text": [
      "Processing from chr1_1MB.bed using even 500000bp windows in either direction from bed region centers.\n",
      "Writing new bed file chr1_1MB.windowed.bed\n",
      "Allocating requested 32 cores.\n",
      "No valid base modification threshold provided. Raw probs will be saved.\n",
      "Extracting A,0 sites\n"
     ]
    },
    {
     "name": "stderr",
     "output_type": "stream",
     "text": [
      "> specifying include-only BED outputs only mapped sites\n",
      "> parsing BED at /clusterfs/nilah/oberon/datasets/dimelo_mA-mGpC/20230702_jm_lmnb1_acessibility_redux/megalodon_all_context/chr1_1MB.windowed.bed\n",
      "> processed 1 BED lines\n",
      "> found BAM index, processing reads in 100000 base pair chunks\n",
      "> Error! refusing to write over existing file \"/clusterfs/nilah/oberon/datasets/dimelo_mA-mGpC/20230702_jm_lmnb1_acessibility_redux/megalodon_all_context/mod_mappings.01.chr1_1MB.A,0.txt\"\n"
     ]
    },
    {
     "name": "stdout",
     "output_type": "stream",
     "text": [
      "Adding A,0 to /clusterfs/nilah/oberon/datasets/dimelo_mA-mGpC/20230702_jm_lmnb1_acessibility_redux/megalodon_all_context/mod_mappings.01.chr1_1MB.h5\n",
      "Extracting CG,0 sites\n"
     ]
    },
    {
     "name": "stderr",
     "output_type": "stream",
     "text": [
      "> specifying include-only BED outputs only mapped sites\n",
      "> parsing BED at /clusterfs/nilah/oberon/datasets/dimelo_mA-mGpC/20230702_jm_lmnb1_acessibility_redux/megalodon_all_context/chr1_1MB.windowed.bed\n",
      "> processed 1 BED lines\n",
      "> found BAM index, processing reads in 100000 base pair chunks\n",
      "> Error! refusing to write over existing file \"/clusterfs/nilah/oberon/datasets/dimelo_mA-mGpC/20230702_jm_lmnb1_acessibility_redux/megalodon_all_context/mod_mappings.01.chr1_1MB.CG,0.txt\"\n"
     ]
    },
    {
     "name": "stdout",
     "output_type": "stream",
     "text": [
      "Adding CG,0 to /clusterfs/nilah/oberon/datasets/dimelo_mA-mGpC/20230702_jm_lmnb1_acessibility_redux/megalodon_all_context/mod_mappings.01.chr1_1MB.h5\n",
      "extending from 123 to 246\n",
      "Extracting GCH,1 sites\n"
     ]
    },
    {
     "name": "stderr",
     "output_type": "stream",
     "text": [
      "> specifying include-only BED outputs only mapped sites\n",
      "> parsing BED at /clusterfs/nilah/oberon/datasets/dimelo_mA-mGpC/20230702_jm_lmnb1_acessibility_redux/megalodon_all_context/chr1_1MB.windowed.bed\n",
      "> processed 1 BED lines\n",
      "> found BAM index, processing reads in 100000 base pair chunks\n",
      "> Error! refusing to write over existing file \"/clusterfs/nilah/oberon/datasets/dimelo_mA-mGpC/20230702_jm_lmnb1_acessibility_redux/megalodon_all_context/mod_mappings.01.chr1_1MB.GCH,1.txt\"\n"
     ]
    },
    {
     "name": "stdout",
     "output_type": "stream",
     "text": [
      "Adding GCH,1 to /clusterfs/nilah/oberon/datasets/dimelo_mA-mGpC/20230702_jm_lmnb1_acessibility_redux/megalodon_all_context/mod_mappings.01.chr1_1MB.h5\n",
      "extending from 246 to 369\n",
      "0\n"
     ]
    }
   ],
   "source": [
    "num_cores = 32\n",
    "print(parse_bam_modkit_extract(\n",
    "    input_file='/clusterfs/nilah/oberon/datasets/dimelo_mA-mGpC/20230702_jm_lmnb1_acessibility_redux/megalodon_all_context/mod_mappings.01.retagged.ma.sorted.bam',\n",
    "    output_path='/clusterfs/nilah/oberon/datasets/dimelo_mA-mGpC/20230702_jm_lmnb1_acessibility_redux/megalodon_all_context',\n",
    "    output_name='mod_mappings.01.chr1_1MB',\n",
    "    ref_genome='/clusterfs/nilah/oberon/genomes/chm13.draft_v1.1.fasta',\n",
    "    bed_file='/clusterfs/nilah/oberon/datasets/dimelo_mA-mGpC/20230702_jm_lmnb1_acessibility_redux/megalodon_all_context/chr1_1MB.bed',\n",
    "    basemods=['A,0','CG,0','GCH,1'],\n",
    "    window_size=500000,\n",
    "    cores=num_cores,\n",
    "))"
   ]
  },
  {
   "cell_type": "code",
   "execution_count": null,
   "id": "b0a5ebce",
   "metadata": {},
   "outputs": [],
   "source": []
  },
  {
   "cell_type": "code",
   "execution_count": null,
   "id": "1be90eaf",
   "metadata": {},
   "outputs": [],
   "source": []
  },
  {
   "cell_type": "code",
   "execution_count": 3,
   "id": "92d09eab",
   "metadata": {},
   "outputs": [
    {
     "name": "stdout",
     "output_type": "stream",
     "text": [
      "A\n",
      "123\n",
      "read_id\tforward_read_position\tref_position\tchrom\tmod_strand\tref_strand\tref_mod_strand\tfw_soft_clipped_start\tfw_soft_clipped_end\tread_length\tmod_qual\tmod_code\tbase_qual\tref_kmer\tquery_kmer\tcanonical_base\tmodified_primary_base\tinferred\tflag\n",
      "\n"
     ]
    },
    {
     "data": {
      "text/plain": [
       "0"
      ]
     },
     "execution_count": 3,
     "metadata": {},
     "output_type": "execute_result"
    }
   ],
   "source": [
    "input_txt_1 = '/clusterfs/nilah/oberon/datasets/dimelo_mA-mGpC/20230702_jm_lmnb1_acessibility_redux/megalodon_all_context/mod_mappings.01.chr1_1MB.txt'\n",
    "input_txt_1a = '/clusterfs/nilah/oberon/datasets/dimelo_mA-mGpC/20230702_jm_lmnb1_acessibility_redux/megalodon_all_context/mod_mappings.01.chr1_1MB.A,0.txt'\n",
    "input_txt_1b = '/clusterfs/nilah/oberon/datasets/dimelo_mA-mGpC/20230702_jm_lmnb1_acessibility_redux/megalodon_all_context/mod_mappings.01.chr1_1MB.CG,0.txt'\n",
    "input_txt_1c = '/clusterfs/nilah/oberon/datasets/dimelo_mA-mGpC/20230702_jm_lmnb1_acessibility_redux/megalodon_all_context/mod_mappings.01.chr1_1MB.GCH,1.txt'\n",
    "input_txt_2 = '/clusterfs/nilah/oberon/dimelo_dev_source/test_inputs/deep_ctcf_ENCFF797SDL.txt'\n",
    "output_h5_1 = '/clusterfs/nilah/oberon/datasets/dimelo_mA-mGpC/20230702_jm_lmnb1_acessibility_redux/megalodon_all_context/mod_mappings.01.chr1_1MB.h5'\n",
    "output_h5_2 = '/clusterfs/nilah/oberon/dimelo_dev_source/test_inputs/deep_ctcf_ENCFF797SDL.h5'\n",
    "\n",
    "with open(output_h5_1,'w') as f:\n",
    "    pass\n",
    "with open(output_h5_2,'w') as f:\n",
    "    pass\n",
    "\n",
    "utils.read_by_base_txt_to_hdf5(\n",
    "    input_txt_1a,\n",
    "    output_h5_1,\n",
    "    'A,0',\n",
    "    0.5,\n",
    ")\n",
    "# utils.read_by_base_txt_to_hdf5(\n",
    "#     input_txt_1b,\n",
    "#     output_h5_1,\n",
    "#     'CG,0',\n",
    "#     0.5,\n",
    "# )\n",
    "# utils.read_by_base_txt_to_hdf5(\n",
    "#     input_txt_1c,\n",
    "#     output_h5_1,\n",
    "#     'GCH,1',\n",
    "#     0.5,\n",
    "# )"
   ]
  },
  {
   "cell_type": "code",
   "execution_count": 2,
   "id": "a2d773ba",
   "metadata": {},
   "outputs": [],
   "source": [
    "input_txt_1 = '/clusterfs/nilah/oberon/datasets/dimelo_mA-mGpC/20230702_jm_lmnb1_acessibility_redux/megalodon_all_context/mod_mappings.01.chr1_1MB.txt'\n",
    "input_txt_2 = '/clusterfs/nilah/oberon/dimelo_dev_source/test_inputs/deep_ctcf_ENCFF797SDL.txt'\n",
    "output_h5_1 = '/clusterfs/nilah/oberon/datasets/dimelo_mA-mGpC/20230702_jm_lmnb1_acessibility_redux/megalodon_all_context/mod_mappings.01.chr1_1MB.h5'\n",
    "output_h5_2 = '/clusterfs/nilah/oberon/dimelo_dev_source/test_inputs/deep_ctcf_ENCFF797SDL.h5'"
   ]
  },
  {
   "cell_type": "code",
   "execution_count": 3,
   "id": "94dc63ec",
   "metadata": {},
   "outputs": [
    {
     "name": "stdout",
     "output_type": "stream",
     "text": [
      "826433 reads found in /clusterfs/nilah/oberon/dimelo_dev_source/test_inputs/deep_ctcf_ENCFF797SDL.txt\n",
      "Unexpected exception formatting exception. Falling back to standard exception\n"
     ]
    },
    {
     "name": "stderr",
     "output_type": "stream",
     "text": [
      "Traceback (most recent call last):\n",
      "  File \"/clusterfs/nilah/oberon/repos/dimelo_modkit_parsing/dimelo/prototyping/utils.py\", line None, in read_by_base_txt_to_hdf5\n",
      "KeyboardInterrupt\n",
      "\n",
      "During handling of the above exception, another exception occurred:\n",
      "\n",
      "Traceback (most recent call last):\n",
      "  File \"/global/home/users/dixonluinenburg/.conda/envs/dimelo_modkit_3.11/lib/python3.11/site-packages/IPython/core/interactiveshell.py\", line 3553, in run_code\n",
      "    exec(code_obj, self.user_global_ns, self.user_ns)\n",
      "  File \"/tmp/ipykernel_245132/1639105377.py\", line 1, in <module>\n",
      "    utils.read_by_base_txt_to_hdf5(\n",
      "  File \"/clusterfs/nilah/oberon/repos/dimelo_modkit_parsing/dimelo/prototyping/utils.py\", line 55, in read_by_base_txt_to_hdf5\n",
      "    with h5py.File(output_h5,'a') as h5:\n",
      "  File \"h5py/_objects.pyx\", line 54, in h5py._objects.with_phil.wrapper\n",
      "  File \"h5py/_objects.pyx\", line 55, in h5py._objects.with_phil.wrapper\n",
      "  File \"/global/home/users/dixonluinenburg/.conda/envs/dimelo_modkit_3.11/lib/python3.11/site-packages/h5py/_hl/files.py\", line 599, in __exit__\n",
      "    self.close()\n",
      "  File \"/global/home/users/dixonluinenburg/.conda/envs/dimelo_modkit_3.11/lib/python3.11/site-packages/h5py/_hl/files.py\", line 581, in close\n",
      "    self.id._close_open_objects(h5f.OBJ_LOCAL | h5f.OBJ_FILE)\n",
      "KeyboardInterrupt\n",
      "\n",
      "During handling of the above exception, another exception occurred:\n",
      "\n",
      "Traceback (most recent call last):\n",
      "  File \"/global/home/users/dixonluinenburg/.conda/envs/dimelo_modkit_3.11/lib/python3.11/site-packages/IPython/core/interactiveshell.py\", line 2144, in showtraceback\n",
      "    stb = self.InteractiveTB.structured_traceback(\n",
      "          ^^^^^^^^^^^^^^^^^^^^^^^^^^^^^^^^^^^^^^^^\n",
      "  File \"/global/home/users/dixonluinenburg/.conda/envs/dimelo_modkit_3.11/lib/python3.11/site-packages/IPython/core/ultratb.py\", line 1435, in structured_traceback\n",
      "    return FormattedTB.structured_traceback(\n",
      "           ^^^^^^^^^^^^^^^^^^^^^^^^^^^^^^^^^\n",
      "  File \"/global/home/users/dixonluinenburg/.conda/envs/dimelo_modkit_3.11/lib/python3.11/site-packages/IPython/core/ultratb.py\", line 1326, in structured_traceback\n",
      "    return VerboseTB.structured_traceback(\n",
      "           ^^^^^^^^^^^^^^^^^^^^^^^^^^^^^^^\n",
      "  File \"/global/home/users/dixonluinenburg/.conda/envs/dimelo_modkit_3.11/lib/python3.11/site-packages/IPython/core/ultratb.py\", line 1192, in structured_traceback\n",
      "    formatted_exceptions += self.format_exception_as_a_whole(etype, evalue, etb, lines_of_context,\n",
      "                            ^^^^^^^^^^^^^^^^^^^^^^^^^^^^^^^^^^^^^^^^^^^^^^^^^^^^^^^^^^^^^^^^^^^^^^\n",
      "  File \"/global/home/users/dixonluinenburg/.conda/envs/dimelo_modkit_3.11/lib/python3.11/site-packages/IPython/core/ultratb.py\", line 1088, in format_exception_as_a_whole\n",
      "    frames.append(self.format_record(record))\n",
      "                  ^^^^^^^^^^^^^^^^^^^^^^^^^^\n",
      "  File \"/global/home/users/dixonluinenburg/.conda/envs/dimelo_modkit_3.11/lib/python3.11/site-packages/IPython/core/ultratb.py\", line 970, in format_record\n",
      "    frame_info.lines, Colors, self.has_colors, lvals\n",
      "    ^^^^^^^^^^^^^^^^\n",
      "  File \"/global/home/users/dixonluinenburg/.conda/envs/dimelo_modkit_3.11/lib/python3.11/site-packages/IPython/core/ultratb.py\", line 792, in lines\n",
      "    return self._sd.lines\n",
      "           ^^^^^^^^^^^^^^\n",
      "  File \"/global/home/users/dixonluinenburg/.conda/envs/dimelo_modkit_3.11/lib/python3.11/site-packages/stack_data/utils.py\", line 144, in cached_property_wrapper\n",
      "    value = obj.__dict__[self.func.__name__] = self.func(obj)\n",
      "                                               ^^^^^^^^^^^^^^\n",
      "  File \"/global/home/users/dixonluinenburg/.conda/envs/dimelo_modkit_3.11/lib/python3.11/site-packages/stack_data/core.py\", line 734, in lines\n",
      "    pieces = self.included_pieces\n",
      "             ^^^^^^^^^^^^^^^^^^^^\n",
      "  File \"/global/home/users/dixonluinenburg/.conda/envs/dimelo_modkit_3.11/lib/python3.11/site-packages/stack_data/utils.py\", line 144, in cached_property_wrapper\n",
      "    value = obj.__dict__[self.func.__name__] = self.func(obj)\n",
      "                                               ^^^^^^^^^^^^^^\n",
      "  File \"/global/home/users/dixonluinenburg/.conda/envs/dimelo_modkit_3.11/lib/python3.11/site-packages/stack_data/core.py\", line 681, in included_pieces\n",
      "    pos = scope_pieces.index(self.executing_piece)\n",
      "                             ^^^^^^^^^^^^^^^^^^^^\n",
      "  File \"/global/home/users/dixonluinenburg/.conda/envs/dimelo_modkit_3.11/lib/python3.11/site-packages/stack_data/utils.py\", line 144, in cached_property_wrapper\n",
      "    value = obj.__dict__[self.func.__name__] = self.func(obj)\n",
      "                                               ^^^^^^^^^^^^^^\n",
      "  File \"/global/home/users/dixonluinenburg/.conda/envs/dimelo_modkit_3.11/lib/python3.11/site-packages/stack_data/core.py\", line 660, in executing_piece\n",
      "    return only(\n",
      "           ^^^^^\n",
      "  File \"/global/home/users/dixonluinenburg/.conda/envs/dimelo_modkit_3.11/lib/python3.11/site-packages/executing/executing.py\", line 116, in only\n",
      "    raise NotOneValueFound('Expected one value, found 0')\n",
      "executing.executing.NotOneValueFound: Expected one value, found 0\n"
     ]
    }
   ],
   "source": [
    "utils.read_by_base_txt_to_hdf5(\n",
    "    input_txt_2,\n",
    "    output_h5_2,\n",
    "    'A,0',\n",
    "    0.9,\n",
    ")"
   ]
  },
  {
   "cell_type": "code",
   "execution_count": null,
   "id": "394bedc5",
   "metadata": {},
   "outputs": [],
   "source": []
  }
 ],
 "metadata": {
  "kernelspec": {
   "display_name": "dimelo_modkit_3.11",
   "language": "python",
   "name": "dimelo_modkit_3.11"
  },
  "language_info": {
   "codemirror_mode": {
    "name": "ipython",
    "version": 3
   },
   "file_extension": ".py",
   "mimetype": "text/x-python",
   "name": "python",
   "nbconvert_exporter": "python",
   "pygments_lexer": "ipython3",
   "version": "3.11.7"
  }
 },
 "nbformat": 4,
 "nbformat_minor": 5
}
