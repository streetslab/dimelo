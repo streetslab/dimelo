{
 "cells": [
  {
   "cell_type": "code",
   "execution_count": 1,
   "id": "2c8ba72a",
   "metadata": {},
   "outputs": [],
   "source": [
    "import os\n",
    "import sys\n",
    "import matplotlib.pyplot as plt\n",
    "import numpy as np\n",
    "\n",
    "# current_interpreter = sys.executable\n",
    "# env_bin_path = os.path.dirname(current_interpreter)\n",
    "\n",
    "# print(env_bin_path)"
   ]
  },
  {
   "cell_type": "code",
   "execution_count": 2,
   "id": "484f93d9",
   "metadata": {},
   "outputs": [
    {
     "name": "stdout",
     "output_type": "stream",
     "text": [
      "PATH does not include the conda environment /bin folder. Adding /global/home/users/dixonluinenburg/.conda/envs/dimelo_modkit_3.11/bin.\n",
      "PATH is now /global/home/users/dixonluinenburg/.conda/envs/dimelo_modkit_3.11/bin:/global/software/sl-7.x86_64/modules/langs/python/3.10/bin:/global/software/sl-7.x86_64/modules/tools/sq/0.1.0/bin:/global/software/sl-7.x86_64/modules/tools/emacs/25.1/bin:/global/software/sl-7.x86_64/modules/tools/vim/7.4/bin:/usr/local/bin:/bin:/usr/bin:/usr/local/sbin:/usr/sbin:/global/home/groups/allhands/bin:/global/home/users/dixonluinenburg/bin\n",
      "modkit found with expected version 0.2.4\n"
     ]
    }
   ],
   "source": [
    "# os.environ['PATH'] = \"/global/home/users/dixonluinenburg/.conda/envs/dimelo_modkit_3.11/bin:\" + os.environ['PATH']\n",
    "from dimelo import parse_bam\n",
    "import pysam"
   ]
  },
  {
   "cell_type": "code",
   "execution_count": 3,
   "id": "0782686a",
   "metadata": {},
   "outputs": [
    {
     "ename": "ValueError",
     "evalue": "Base modification tags are out of spec (Mm and Ml instead of MM and ML). \n\nConsider using \"modkit update-tags /clusterfs/nilah/oberon/dimelo_dev_source/test_inputs/deep_ctcf_mod_mappings_merge.sorted.bam new_file.bam\" in the command line with your conda environment active and then trying with the new file. For megalodon basecalling/modcalling, you may also need to pass \"--mode ambiguous\"",
     "output_type": "error",
     "traceback": [
      "\u001b[0;31m---------------------------------------------------------------------------\u001b[0m",
      "\u001b[0;31mValueError\u001b[0m                                Traceback (most recent call last)",
      "Cell \u001b[0;32mIn[3], line 1\u001b[0m\n\u001b[0;32m----> 1\u001b[0m \u001b[43mparse_bam\u001b[49m\u001b[38;5;241;43m.\u001b[39;49m\u001b[43mcheck_bam_format\u001b[49m\u001b[43m(\u001b[49m\n\u001b[1;32m      2\u001b[0m \u001b[43m    \u001b[49m\u001b[38;5;124;43m'\u001b[39;49m\u001b[38;5;124;43m/clusterfs/nilah/oberon/dimelo_dev_source/test_inputs/deep_ctcf_mod_mappings_merge.sorted.bam\u001b[39;49m\u001b[38;5;124;43m'\u001b[39;49m\n\u001b[1;32m      3\u001b[0m \u001b[43m)\u001b[49m\n",
      "File \u001b[0;32m/clusterfs/nilah/oberon/repos/dimelo_modkit_parsing/dimelo/dimelo/parse_bam.py:420\u001b[0m, in \u001b[0;36mcheck_bam_format\u001b[0;34m(input_file, basemods)\u001b[0m\n\u001b[1;32m    418\u001b[0m tag_value \u001b[38;5;241m=\u001b[39m tag_fields[\u001b[38;5;241m2\u001b[39m]\n\u001b[1;32m    419\u001b[0m \u001b[38;5;28;01mif\u001b[39;00m tag\u001b[38;5;241m==\u001b[39m\u001b[38;5;124m'\u001b[39m\u001b[38;5;124mMm\u001b[39m\u001b[38;5;124m'\u001b[39m \u001b[38;5;129;01mor\u001b[39;00m tag\u001b[38;5;241m==\u001b[39m\u001b[38;5;124m'\u001b[39m\u001b[38;5;124mMl\u001b[39m\u001b[38;5;124m'\u001b[39m:\n\u001b[0;32m--> 420\u001b[0m     \u001b[38;5;28;01mraise\u001b[39;00m \u001b[38;5;167;01mValueError\u001b[39;00m(\u001b[38;5;124mf\u001b[39m\u001b[38;5;124m'\u001b[39m\u001b[38;5;124mBase modification tags are out of spec (Mm and Ml instead of MM and ML). \u001b[39m\u001b[38;5;130;01m\\n\u001b[39;00m\u001b[38;5;130;01m\\n\u001b[39;00m\u001b[38;5;124mConsider using \u001b[39m\u001b[38;5;124m\"\u001b[39m\u001b[38;5;124mmodkit update-tags \u001b[39m\u001b[38;5;132;01m{\u001b[39;00m\u001b[38;5;28mstr\u001b[39m(input_file)\u001b[38;5;132;01m}\u001b[39;00m\u001b[38;5;124m new_file.bam\u001b[39m\u001b[38;5;124m\"\u001b[39m\u001b[38;5;124m in the command line with your conda environment active and then trying with the new file. For megalodon basecalling/modcalling, you may also need to pass \u001b[39m\u001b[38;5;124m\"\u001b[39m\u001b[38;5;124m--mode ambiguous\u001b[39m\u001b[38;5;124m\"\u001b[39m\u001b[38;5;124m'\u001b[39m)\n\u001b[1;32m    421\u001b[0m \u001b[38;5;28;01melif\u001b[39;00m tag\u001b[38;5;241m==\u001b[39m\u001b[38;5;124m'\u001b[39m\u001b[38;5;124mMM\u001b[39m\u001b[38;5;124m'\u001b[39m:\n\u001b[1;32m    422\u001b[0m     \u001b[38;5;28;01mif\u001b[39;00m tag_value[\u001b[38;5;241m-\u001b[39m\u001b[38;5;241m1\u001b[39m]\u001b[38;5;241m!=\u001b[39m\u001b[38;5;124m'\u001b[39m\u001b[38;5;124m?\u001b[39m\u001b[38;5;124m'\u001b[39m \u001b[38;5;129;01mand\u001b[39;00m tag_value[\u001b[38;5;241m-\u001b[39m\u001b[38;5;241m1\u001b[39m]\u001b[38;5;241m!=\u001b[39m\u001b[38;5;124m'\u001b[39m\u001b[38;5;124m.\u001b[39m\u001b[38;5;124m'\u001b[39m:\n",
      "\u001b[0;31mValueError\u001b[0m: Base modification tags are out of spec (Mm and Ml instead of MM and ML). \n\nConsider using \"modkit update-tags /clusterfs/nilah/oberon/dimelo_dev_source/test_inputs/deep_ctcf_mod_mappings_merge.sorted.bam new_file.bam\" in the command line with your conda environment active and then trying with the new file. For megalodon basecalling/modcalling, you may also need to pass \"--mode ambiguous\""
     ]
    }
   ],
   "source": [
    "parse_bam.check_bam_format(\n",
    "    '/clusterfs/nilah/oberon/dimelo_dev_source/test_inputs/deep_ctcf_mod_mappings_merge.sorted.bam'\n",
    ")"
   ]
  },
  {
   "cell_type": "code",
   "execution_count": 58,
   "id": "c411da5f",
   "metadata": {},
   "outputs": [
    {
     "data": {
      "image/png": "[encoded data removed]",
      "text/plain": [
       "<Figure size 640x480 with 1 Axes>"
      ]
     },
     "metadata": {},
     "output_type": "display_data"
    }
   ],
   "source": [
    "pangenome_bam = pysam.AlignmentFile('/clusterfs/nilah/oberon/datasets/pangenome/HG00408/nanopore/07_27_21_R941_HG00408_2_Guppy_6.5.7_450bps_modbases_5mc_cg_sup_prom_pass.bam','rb',check_sq=False)\n",
    "lens_list = []\n",
    "lim = 10000\n",
    "for counter,read in enumerate(pangenome_bam):\n",
    "    if counter>=lim:\n",
    "        break\n",
    "    lens_list.append(read.query_length)\n",
    "bins = np.logspace(start=2,stop=7,num=200)\n",
    "plt.hist(lens_list,bins=bins);\n",
    "plt.title(f'mean: {np.mean(lens_list)}, median: {np.median(lens_list)}')\n",
    "plt.xscale('log')"
   ]
  },
  {
   "cell_type": "code",
   "execution_count": 31,
   "id": "1b51e5d3",
   "metadata": {},
   "outputs": [],
   "source": [
    "# !module load samtools && samtools view -H /clusterfs/nilah/oberon/datasets/pangenome/HG00408/nanopore/07_27_21_R941_HG00408_2_Guppy_6.5.7_450bps_modbases_5mc_cg_sup_prom_pass.bam"
   ]
  },
  {
   "cell_type": "code",
   "execution_count": null,
   "id": "10083764",
   "metadata": {},
   "outputs": [],
   "source": []
  },
  {
   "cell_type": "code",
   "execution_count": 11,
   "id": "61ac1a2d",
   "metadata": {},
   "outputs": [
    {
     "name": "stdout",
     "output_type": "stream",
     "text": [
      "No output directory provided, using input directory /clusterfs/nilah/oberon/datasets/dimelo_mA-mGpC/20230702_jm_lmnb1_acessibility_redux/megalodon_all_context\n",
      "Warning: window size 0bp will be ignored. Processing from region chr1:990000-1000000.\n",
      "Logging to  /clusterfs/nilah/oberon/datasets/dimelo_mA-mGpC/20230702_jm_lmnb1_acessibility_redux/megalodon_all_context/bam_format_check/pileup-log\n",
      "No specified number of cores requested. 32 available on machine, allocating 16\n",
      "Modification threshold of 128 assumed to be for range 0-255. 128/255=0.5019607843137255 will be sent to modkit.\n"
     ]
    },
    {
     "name": "stderr",
     "output_type": "stream",
     "text": [
      "> parsing region chr1:990000-1000000\n",
      "> parsed user-input threshold 0.5019608 for mod-code Y\n",
      "> parsed user-input threshold 0.5019608 for mod-code m\n",
      "> parsed user-input threshold 0.5019608 for mod-code Z\n",
      "> parsed user-input threshold 0.5019608 for mod-code a\n",
      "> calculated chunk size: 24, interval size 100000, processing 2400000 positions concurrently\n",
      "> Threshold of 0.5019608 for mod code Y is very low. Consider increasing the filter-percentile or specifying a higher threshold.\n",
      "> Threshold of 0.5019608 for mod code m is very low. Consider increasing the filter-percentile or specifying a higher threshold.\n",
      "> Threshold of 0.5019608 for mod code Z is very low. Consider increasing the filter-percentile or specifying a higher threshold.\n",
      "> Threshold of 0.5019608 for mod code a is very low. Consider increasing the filter-percentile or specifying a higher threshold.\n",
      "> Done, processed 4166 rows. Processed ~4 reads and skipped zero reads.\n"
     ]
    },
    {
     "data": {
      "text/plain": [
       "PosixPath('/clusterfs/nilah/oberon/datasets/dimelo_mA-mGpC/20230702_jm_lmnb1_acessibility_redux/megalodon_all_context/bam_format_check/pileup.sorted.bed.gz')"
      ]
     },
     "execution_count": 11,
     "metadata": {},
     "output_type": "execute_result"
    }
   ],
   "source": [
    "parse_bam.pileup(\n",
    "    '/clusterfs/nilah/oberon/datasets/dimelo_mA-mGpC/20230702_jm_lmnb1_acessibility_redux/megalodon_all_context/mod_mappings.01.retagged.ma.sorted.bam',\n",
    "    output_name = 'bam_format_check',\n",
    "    ref_genome = '/clusterfs/nilah/oberon/genomes/chm13.draft_v1.1.fasta',\n",
    "    region_str = 'chr1:990000-1000000',\n",
    "    log = True,\n",
    "    thresh = 128,\n",
    "    cleanup=False,\n",
    ")"
   ]
  },
  {
   "cell_type": "code",
   "execution_count": 12,
   "id": "67070a80",
   "metadata": {},
   "outputs": [
    {
     "name": "stdout",
     "output_type": "stream",
     "text": [
      "No output directory provided, using input directory /clusterfs/nilah/oberon/datasets/dimelo_mA-mGpC/20230702_jm_lmnb1_acessibility_redux/megalodon_all_context\n",
      "Warning: window size 0bp will be ignored. Processing from region chr1:990000-1000000.\n",
      "No specified number of cores requested. 32 available on machine, allocating 16\n",
      "Modification threshold of 128 assumed to be for range 0-255. 128/255=0.5019607843137255 will be sent to modkit.\n",
      "Extracting A,0 sites\n",
      "logging to  /clusterfs/nilah/oberon/datasets/dimelo_mA-mGpC/20230702_jm_lmnb1_acessibility_redux/megalodon_all_context/bam_format_check/extract-log\n"
     ]
    },
    {
     "name": "stderr",
     "output_type": "stream",
     "text": [
      "> specifying a motif (including --cpg) outputs only mapped sites\n",
      "> found BAM index, processing reads in 100000 base pair chunks\n",
      "> processed 4 reads, 17817 rows, skipped ~0 reads, failed ~0 reads\n"
     ]
    },
    {
     "name": "stdout",
     "output_type": "stream",
     "text": [
      "Adding A,0 to /clusterfs/nilah/oberon/datasets/dimelo_mA-mGpC/20230702_jm_lmnb1_acessibility_redux/megalodon_all_context/bam_format_check/reads.combined_basemods.h5\n",
      "4 reads found in /clusterfs/nilah/oberon/datasets/dimelo_mA-mGpC/20230702_jm_lmnb1_acessibility_redux/megalodon_all_context/bam_format_check/reads.A,0.txt\n",
      "Extracting CG,0 sites\n",
      "logging to  /clusterfs/nilah/oberon/datasets/dimelo_mA-mGpC/20230702_jm_lmnb1_acessibility_redux/megalodon_all_context/bam_format_check/extract-log\n"
     ]
    },
    {
     "name": "stderr",
     "output_type": "stream",
     "text": [
      "> specifying a motif (including --cpg) outputs only mapped sites\n",
      "> found BAM index, processing reads in 100000 base pair chunks\n",
      "> processed 4 reads, 2416 rows, skipped ~0 reads, failed ~0 reads\n"
     ]
    },
    {
     "name": "stdout",
     "output_type": "stream",
     "text": [
      "Adding CG,0 to /clusterfs/nilah/oberon/datasets/dimelo_mA-mGpC/20230702_jm_lmnb1_acessibility_redux/megalodon_all_context/bam_format_check/reads.combined_basemods.h5\n",
      "4 reads found in /clusterfs/nilah/oberon/datasets/dimelo_mA-mGpC/20230702_jm_lmnb1_acessibility_redux/megalodon_all_context/bam_format_check/reads.CG,0.txt\n",
      "extending from 4 to 8\n",
      "Extracting GCH,1 sites\n",
      "logging to  /clusterfs/nilah/oberon/datasets/dimelo_mA-mGpC/20230702_jm_lmnb1_acessibility_redux/megalodon_all_context/bam_format_check/extract-log\n"
     ]
    },
    {
     "name": "stderr",
     "output_type": "stream",
     "text": [
      "> specifying a motif (including --cpg) outputs only mapped sites\n",
      "> found BAM index, processing reads in 100000 base pair chunks\n",
      "> processed 4 reads, 4368 rows, skipped ~0 reads, failed ~0 reads\n"
     ]
    },
    {
     "name": "stdout",
     "output_type": "stream",
     "text": [
      "Adding GCH,1 to /clusterfs/nilah/oberon/datasets/dimelo_mA-mGpC/20230702_jm_lmnb1_acessibility_redux/megalodon_all_context/bam_format_check/reads.combined_basemods.h5\n",
      "4 reads found in /clusterfs/nilah/oberon/datasets/dimelo_mA-mGpC/20230702_jm_lmnb1_acessibility_redux/megalodon_all_context/bam_format_check/reads.GCH,1.txt\n",
      "extending from 8 to 12\n"
     ]
    },
    {
     "data": {
      "text/plain": [
       "PosixPath('/clusterfs/nilah/oberon/datasets/dimelo_mA-mGpC/20230702_jm_lmnb1_acessibility_redux/megalodon_all_context/bam_format_check/reads.combined_basemods.h5')"
      ]
     },
     "execution_count": 12,
     "metadata": {},
     "output_type": "execute_result"
    }
   ],
   "source": [
    "parse_bam.extract(\n",
    "    '/clusterfs/nilah/oberon/datasets/dimelo_mA-mGpC/20230702_jm_lmnb1_acessibility_redux/megalodon_all_context/mod_mappings.01.retagged.ma.sorted.bam',\n",
    "    output_name = 'bam_format_check',\n",
    "    ref_genome = '/clusterfs/nilah/oberon/genomes/chm13.draft_v1.1.fasta',\n",
    "    region_str = 'chr1:990000-1000000',\n",
    "    log = True,\n",
    "    thresh = 128,\n",
    "    cleanup=False,\n",
    ")"
   ]
  },
  {
   "cell_type": "code",
   "execution_count": 3,
   "id": "5b8dd134",
   "metadata": {},
   "outputs": [
    {
     "ename": "ValueError",
     "evalue": "file has no sequences defined (mode='r') - is it SAM/BAM format? Consider opening with check_sq=False",
     "output_type": "error",
     "traceback": [
      "\u001b[0;31m---------------------------------------------------------------------------\u001b[0m",
      "\u001b[0;31mValueError\u001b[0m                                Traceback (most recent call last)",
      "Cell \u001b[0;32mIn[3], line 1\u001b[0m\n\u001b[0;32m----> 1\u001b[0m \u001b[43mparse_bam\u001b[49m\u001b[38;5;241;43m.\u001b[39;49m\u001b[43mcheck_bam_format\u001b[49m\u001b[43m(\u001b[49m\n\u001b[1;32m      2\u001b[0m \u001b[43m    \u001b[49m\u001b[38;5;124;43m'\u001b[39;49m\u001b[38;5;124;43m/clusterfs/nilah/oberon/datasets/pangenome/HG00408/nanopore/07_27_21_R941_HG00408_2_Guppy_6.5.7_450bps_modbases_5mc_cg_sup_prom_pass.bam\u001b[39;49m\u001b[38;5;124;43m'\u001b[39;49m\n\u001b[1;32m      3\u001b[0m \u001b[43m)\u001b[49m\n",
      "File \u001b[0;32m/clusterfs/nilah/oberon/repos/dimelo_modkit_parsing/dimelo/dimelo/parse_bam.py:422\u001b[0m, in \u001b[0;36mcheck_bam_format\u001b[0;34m(input_file, basemods)\u001b[0m\n\u001b[1;32m    419\u001b[0m     base \u001b[38;5;241m=\u001b[39m motif[\u001b[38;5;28mint\u001b[39m(pos)]\n\u001b[1;32m    420\u001b[0m     basemods_found_dict[base] \u001b[38;5;241m=\u001b[39m \u001b[38;5;28;01mFalse\u001b[39;00m\n\u001b[0;32m--> 422\u001b[0m input_bam \u001b[38;5;241m=\u001b[39m \u001b[43mpysam\u001b[49m\u001b[38;5;241;43m.\u001b[39;49m\u001b[43mAlignmentFile\u001b[49m\u001b[43m(\u001b[49m\u001b[43minput_file\u001b[49m\u001b[43m)\u001b[49m\n\u001b[1;32m    423\u001b[0m \u001b[38;5;28;01mfor\u001b[39;00m counter,read \u001b[38;5;129;01min\u001b[39;00m \u001b[38;5;28menumerate\u001b[39m(input_bam\u001b[38;5;241m.\u001b[39mfetch()):\n\u001b[1;32m    424\u001b[0m     read_dict \u001b[38;5;241m=\u001b[39m read\u001b[38;5;241m.\u001b[39mto_dict()\n",
      "File \u001b[0;32m~/.conda/envs/dimelo_modkit_3.11/lib/python3.11/site-packages/pysam/libcalignmentfile.pyx:748\u001b[0m, in \u001b[0;36mpysam.libcalignmentfile.AlignmentFile.__cinit__\u001b[0;34m()\u001b[0m\n",
      "File \u001b[0;32m~/.conda/envs/dimelo_modkit_3.11/lib/python3.11/site-packages/pysam/libcalignmentfile.pyx:997\u001b[0m, in \u001b[0;36mpysam.libcalignmentfile.AlignmentFile._open\u001b[0;34m()\u001b[0m\n",
      "\u001b[0;31mValueError\u001b[0m: file has no sequences defined (mode='r') - is it SAM/BAM format? Consider opening with check_sq=False"
     ]
    }
   ],
   "source": [
    "parse_bam.check_bam_format(\n",
    "    '/clusterfs/nilah/oberon/datasets/pangenome/HG00408/nanopore/07_27_21_R941_HG00408_2_Guppy_6.5.7_450bps_modbases_5mc_cg_sup_prom_pass.bam'\n",
    ")"
   ]
  },
  {
   "cell_type": "code",
   "execution_count": null,
   "id": "49a47c8d",
   "metadata": {},
   "outputs": [],
   "source": []
  },
  {
   "cell_type": "code",
   "execution_count": 4,
   "id": "19c3bd4a",
   "metadata": {},
   "outputs": [],
   "source": [
    "parse_bam.check_bam_format(\n",
    "    '/clusterfs/nilah/oberon/dimelo_dev_source/test_inputs/deep_ctcf_mod_mappings_merge.retagged.sorted.bam'\n",
    ")"
   ]
  },
  {
   "cell_type": "code",
   "execution_count": 10,
   "id": "3029a5b9",
   "metadata": {},
   "outputs": [
    {
     "ename": "TypeError",
     "evalue": "check_bam_format() got an unexpected keyword argument 'output_name'",
     "output_type": "error",
     "traceback": [
      "\u001b[0;31m---------------------------------------------------------------------------\u001b[0m",
      "\u001b[0;31mTypeError\u001b[0m                                 Traceback (most recent call last)",
      "Cell \u001b[0;32mIn[10], line 1\u001b[0m\n\u001b[0;32m----> 1\u001b[0m \u001b[43mparse_bam\u001b[49m\u001b[38;5;241;43m.\u001b[39;49m\u001b[43mcheck_bam_format\u001b[49m\u001b[43m(\u001b[49m\n\u001b[1;32m      2\u001b[0m \u001b[43m    \u001b[49m\u001b[38;5;124;43m'\u001b[39;49m\u001b[38;5;124;43m/clusterfs/nilah/oberon/dimelo_dev_source/test_inputs/deep_ctcf_mod_mappings_merge.retagged.ma.sorted.bam\u001b[39;49m\u001b[38;5;124;43m'\u001b[39;49m\u001b[43m,\u001b[49m\n\u001b[1;32m      3\u001b[0m \u001b[43m    \u001b[49m\u001b[43moutput_name\u001b[49m\u001b[43m \u001b[49m\u001b[38;5;241;43m=\u001b[39;49m\u001b[43m \u001b[49m\u001b[38;5;124;43m'\u001b[39;49m\u001b[38;5;124;43mbam_format_check\u001b[39;49m\u001b[38;5;124;43m'\u001b[39;49m\u001b[43m,\u001b[49m\n\u001b[1;32m      4\u001b[0m \u001b[43m    \u001b[49m\u001b[43mref_genome\u001b[49m\u001b[43m \u001b[49m\u001b[38;5;241;43m=\u001b[39;49m\u001b[43m \u001b[49m\u001b[38;5;124;43m'\u001b[39;49m\u001b[38;5;124;43m/clusterfs/nilah/oberon/dimelo_dev_source/test_inputs/genomes/chm13.draft_v1.0.fasta\u001b[39;49m\u001b[38;5;124;43m'\u001b[39;49m\u001b[43m,\u001b[49m\n\u001b[1;32m      5\u001b[0m \u001b[43m    \u001b[49m\u001b[43mregion_str\u001b[49m\u001b[43m \u001b[49m\u001b[38;5;241;43m=\u001b[39;49m\u001b[43m \u001b[49m\u001b[38;5;124;43m'\u001b[39;49m\u001b[38;5;124;43mchr1:0-1000000\u001b[39;49m\u001b[38;5;124;43m'\u001b[39;49m\u001b[43m,\u001b[49m\n\u001b[1;32m      6\u001b[0m \u001b[43m    \u001b[49m\u001b[43mlog\u001b[49m\u001b[43m \u001b[49m\u001b[38;5;241;43m=\u001b[39;49m\u001b[43m \u001b[49m\u001b[38;5;28;43;01mTrue\u001b[39;49;00m\u001b[43m,\u001b[49m\n\u001b[1;32m      7\u001b[0m \u001b[43m    \u001b[49m\u001b[43mthresh\u001b[49m\u001b[43m \u001b[49m\u001b[38;5;241;43m=\u001b[39;49m\u001b[43m \u001b[49m\u001b[38;5;241;43m128\u001b[39;49m\n\u001b[1;32m      8\u001b[0m \u001b[43m)\u001b[49m\n",
      "\u001b[0;31mTypeError\u001b[0m: check_bam_format() got an unexpected keyword argument 'output_name'"
     ]
    }
   ],
   "source": [
    "parse_bam.check_bam_format(\n",
    "    '/clusterfs/nilah/oberon/dimelo_dev_source/test_inputs/deep_ctcf_mod_mappings_merge.retagged.ma.sorted.bam'\n",
    ")"
   ]
  },
  {
   "cell_type": "code",
   "execution_count": 6,
   "id": "bd27d6d2",
   "metadata": {},
   "outputs": [
    {
     "name": "stdout",
     "output_type": "stream",
     "text": [
      "WARNING: no modified values found for ['A'] in the first 500 reads. Do you expect this file to contain these modifications? parse_bam is looking for ['A,0', 'CG,0'] but only found modifications on ['C']. \n",
      "\n",
      "Consider passing only the basemods that you expect to be present in your file.\n",
      "No output directory provided, using input directory /clusterfs/nilah/oberon/cd55_cas9\n",
      "Warning: window size 0bp will be ignored. Processing from region chr1:0-1000000.\n",
      "Logging to  /clusterfs/nilah/oberon/cd55_cas9/bam_format_check/pileup-log\n",
      "No specified number of cores requested. 32 available on machine, allocating 16\n",
      "Modification threshold of 128 assumed to be for range 0-255. 128/255=0.5019607843137255 will be sent to modkit.\n"
     ]
    },
    {
     "name": "stderr",
     "output_type": "stream",
     "text": [
      "> parsing region chr1:0-1000000\n",
      "> parsed user-input threshold 0.5019608 for mod-code Z\n",
      "> parsed user-input threshold 0.5019608 for mod-code a\n",
      "> parsed user-input threshold 0.5019608 for mod-code Y\n",
      "> parsed user-input threshold 0.5019608 for mod-code m\n",
      "> calculated chunk size: 24, interval size 100000, processing 2400000 positions concurrently\n",
      "> Threshold of 0.5019608 for mod code Z is very low. Consider increasing the filter-percentile or specifying a higher threshold.\n",
      "> Threshold of 0.5019608 for mod code a is very low. Consider increasing the filter-percentile or specifying a higher threshold.\n",
      "> Threshold of 0.5019608 for mod code Y is very low. Consider increasing the filter-percentile or specifying a higher threshold.\n",
      "> Threshold of 0.5019608 for mod code m is very low. Consider increasing the filter-percentile or specifying a higher threshold.\n",
      "> Done, processed 30961 rows. Processed ~106 reads and skipped zero reads.\n"
     ]
    },
    {
     "data": {
      "text/plain": [
       "PosixPath('/clusterfs/nilah/oberon/cd55_cas9/bam_format_check/pileup.sorted.bed.gz')"
      ]
     },
     "execution_count": 6,
     "metadata": {},
     "output_type": "execute_result"
    }
   ],
   "source": [
    "parse_bam.pileup(\n",
    "    input_file = '/clusterfs/nilah/oberon/cd55_cas9/cas9_12ef_101923_misha_mod_mappings.retagged.sorted_mC_only.bam',\n",
    "    output_name = 'bam_format_check',\n",
    "    ref_genome = '/clusterfs/nilah/oberon/dimelo_dev_source/test_inputs/genomes/chm13.draft_v1.0.fasta',\n",
    "    region_str = 'chr1:0-1000000',\n",
    "    log = True,\n",
    "    thresh = 128\n",
    ")"
   ]
  },
  {
   "cell_type": "code",
   "execution_count": 3,
   "id": "ffb404c6",
   "metadata": {},
   "outputs": [
    {
     "name": "stdout",
     "output_type": "stream",
     "text": [
      "WARNING: no modified values found for ['A'] in the first 500 reads. Do you expect this file to contain these modifications? parse_bam is looking for ['A,0', 'CG,0'] but only found modifications on ['C']. \n",
      "\n",
      "Consider passing only the basemods that you expect to be present in your file.\n"
     ]
    }
   ],
   "source": [
    "parse_bam.check_bam_format(\n",
    "'/clusterfs/nilah/oberon/cd55_cas9/cas9_12ef_101923_misha_mod_mappings.retagged.sorted_mC_only.bam')"
   ]
  },
  {
   "cell_type": "code",
   "execution_count": null,
   "id": "91897369",
   "metadata": {},
   "outputs": [],
   "source": []
  }
 ],
 "metadata": {
  "kernelspec": {
   "display_name": "dimelo_modkit_3.11",
   "language": "python",
   "name": "dimelo_modkit_3.11"
  },
  "language_info": {
   "codemirror_mode": {
    "name": "ipython",
    "version": 3
   },
   "file_extension": ".py",
   "mimetype": "text/x-python",
   "name": "python",
   "nbconvert_exporter": "python",
   "pygments_lexer": "ipython3",
   "version": "3.11.7"
  }
 },
 "nbformat": 4,
 "nbformat_minor": 5
}
