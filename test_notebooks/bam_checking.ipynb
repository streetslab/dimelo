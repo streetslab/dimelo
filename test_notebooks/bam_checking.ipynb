{
 "cells": [
  {
   "cell_type": "code",
   "execution_count": 1,
   "id": "2c8ba72a",
   "metadata": {},
   "outputs": [],
   "source": [
    "import os\n",
    "import sys\n",
    "\n",
    "# current_interpreter = sys.executable\n",
    "# env_bin_path = os.path.dirname(current_interpreter)\n",
    "\n",
    "# print(env_bin_path)"
   ]
  },
  {
   "cell_type": "code",
   "execution_count": 2,
   "id": "484f93d9",
   "metadata": {},
   "outputs": [
    {
     "name": "stdout",
     "output_type": "stream",
     "text": [
      "PATH does not include the conda environment /bin folder. Adding /global/home/users/dixonluinenburg/.conda/envs/dimelo_modkit_3.11/bin.\n",
      "PATH is now /global/home/users/dixonluinenburg/.conda/envs/dimelo_modkit_3.11/bin:/global/software/sl-7.x86_64/modules/langs/python/3.10/bin:/global/software/sl-7.x86_64/modules/tools/sq/0.1.0/bin:/global/software/sl-7.x86_64/modules/tools/emacs/25.1/bin:/global/software/sl-7.x86_64/modules/tools/vim/7.4/bin:/usr/local/bin:/bin:/usr/bin:/usr/local/sbin:/usr/sbin:/global/home/groups/allhands/bin:/global/home/users/dixonluinenburg/bin\n",
      "modkit found with expected version 0.2.4\n"
     ]
    }
   ],
   "source": [
    "# os.environ['PATH'] = \"/global/home/users/dixonluinenburg/.conda/envs/dimelo_modkit_3.11/bin:\" + os.environ['PATH']\n",
    "from dimelo import parse_bam"
   ]
  },
  {
   "cell_type": "code",
   "execution_count": 3,
   "id": "0782686a",
   "metadata": {},
   "outputs": [
    {
     "ename": "ValueError",
     "evalue": "Base modification tags are out of spec (Mm and Ml instead of MM and ML). \n\nConsider using \"modkit update-tags /clusterfs/nilah/oberon/dimelo_dev_source/test_inputs/deep_ctcf_mod_mappings_merge.sorted.bam new_file.bam\" in the command line with your conda environment active and then trying with the new file. For megalodon basecalling/modcalling, you may also need to pass \"--mode ambiguous\"",
     "output_type": "error",
     "traceback": [
      "\u001b[0;31m---------------------------------------------------------------------------\u001b[0m",
      "\u001b[0;31mValueError\u001b[0m                                Traceback (most recent call last)",
      "Cell \u001b[0;32mIn[3], line 1\u001b[0m\n\u001b[0;32m----> 1\u001b[0m \u001b[43mparse_bam\u001b[49m\u001b[38;5;241;43m.\u001b[39;49m\u001b[43mcheck_bam_format\u001b[49m\u001b[43m(\u001b[49m\n\u001b[1;32m      2\u001b[0m \u001b[43m    \u001b[49m\u001b[38;5;124;43m'\u001b[39;49m\u001b[38;5;124;43m/clusterfs/nilah/oberon/dimelo_dev_source/test_inputs/deep_ctcf_mod_mappings_merge.sorted.bam\u001b[39;49m\u001b[38;5;124;43m'\u001b[39;49m\n\u001b[1;32m      3\u001b[0m \u001b[43m)\u001b[49m\n",
      "File \u001b[0;32m/clusterfs/nilah/oberon/repos/dimelo_modkit_parsing/dimelo/dimelo/parse_bam.py:82\u001b[0m, in \u001b[0;36mcheck_bam_format\u001b[0;34m(input_file, basemods)\u001b[0m\n\u001b[1;32m     80\u001b[0m tag_value \u001b[38;5;241m=\u001b[39m tag_fields[\u001b[38;5;241m2\u001b[39m]\n\u001b[1;32m     81\u001b[0m \u001b[38;5;28;01mif\u001b[39;00m tag\u001b[38;5;241m==\u001b[39m\u001b[38;5;124m'\u001b[39m\u001b[38;5;124mMm\u001b[39m\u001b[38;5;124m'\u001b[39m \u001b[38;5;129;01mor\u001b[39;00m tag\u001b[38;5;241m==\u001b[39m\u001b[38;5;124m'\u001b[39m\u001b[38;5;124mMl\u001b[39m\u001b[38;5;124m'\u001b[39m:\n\u001b[0;32m---> 82\u001b[0m     \u001b[38;5;28;01mraise\u001b[39;00m \u001b[38;5;167;01mValueError\u001b[39;00m(\u001b[38;5;124mf\u001b[39m\u001b[38;5;124m'\u001b[39m\u001b[38;5;124mBase modification tags are out of spec (Mm and Ml instead of MM and ML). \u001b[39m\u001b[38;5;130;01m\\n\u001b[39;00m\u001b[38;5;130;01m\\n\u001b[39;00m\u001b[38;5;124mConsider using \u001b[39m\u001b[38;5;124m\"\u001b[39m\u001b[38;5;124mmodkit update-tags \u001b[39m\u001b[38;5;132;01m{\u001b[39;00m\u001b[38;5;28mstr\u001b[39m(input_file)\u001b[38;5;132;01m}\u001b[39;00m\u001b[38;5;124m new_file.bam\u001b[39m\u001b[38;5;124m\"\u001b[39m\u001b[38;5;124m in the command line with your conda environment active and then trying with the new file. For megalodon basecalling/modcalling, you may also need to pass \u001b[39m\u001b[38;5;124m\"\u001b[39m\u001b[38;5;124m--mode ambiguous\u001b[39m\u001b[38;5;124m\"\u001b[39m\u001b[38;5;124m'\u001b[39m)\n\u001b[1;32m     83\u001b[0m \u001b[38;5;28;01melif\u001b[39;00m tag\u001b[38;5;241m==\u001b[39m\u001b[38;5;124m'\u001b[39m\u001b[38;5;124mMM\u001b[39m\u001b[38;5;124m'\u001b[39m:\n\u001b[1;32m     84\u001b[0m     \u001b[38;5;28;01mif\u001b[39;00m tag_value[\u001b[38;5;241m-\u001b[39m\u001b[38;5;241m1\u001b[39m]\u001b[38;5;241m!=\u001b[39m\u001b[38;5;124m'\u001b[39m\u001b[38;5;124m?\u001b[39m\u001b[38;5;124m'\u001b[39m \u001b[38;5;129;01mand\u001b[39;00m tag_value[\u001b[38;5;241m-\u001b[39m\u001b[38;5;241m1\u001b[39m]\u001b[38;5;241m!=\u001b[39m\u001b[38;5;124m'\u001b[39m\u001b[38;5;124m.\u001b[39m\u001b[38;5;124m'\u001b[39m:\n",
      "\u001b[0;31mValueError\u001b[0m: Base modification tags are out of spec (Mm and Ml instead of MM and ML). \n\nConsider using \"modkit update-tags /clusterfs/nilah/oberon/dimelo_dev_source/test_inputs/deep_ctcf_mod_mappings_merge.sorted.bam new_file.bam\" in the command line with your conda environment active and then trying with the new file. For megalodon basecalling/modcalling, you may also need to pass \"--mode ambiguous\""
     ]
    }
   ],
   "source": [
    "parse_bam.check_bam_format(\n",
    "    '/clusterfs/nilah/oberon/dimelo_dev_source/test_inputs/deep_ctcf_mod_mappings_merge.sorted.bam'\n",
    ")"
   ]
  },
  {
   "cell_type": "code",
   "execution_count": 3,
   "id": "19c3bd4a",
   "metadata": {},
   "outputs": [
    {
     "data": {
      "text/plain": [
       "True"
      ]
     },
     "execution_count": 3,
     "metadata": {},
     "output_type": "execute_result"
    }
   ],
   "source": [
    "parse_bam.check_bam_format(\n",
    "    '/clusterfs/nilah/oberon/dimelo_dev_source/test_inputs/deep_ctcf_mod_mappings_merge.retagged.sorted.bam'\n",
    ")"
   ]
  },
  {
   "cell_type": "code",
   "execution_count": 4,
   "id": "3029a5b9",
   "metadata": {},
   "outputs": [
    {
     "ename": "ValueError",
     "evalue": "Base modification tags are out of spec. Need ? or . in TAG:TYPE:VALUE for MM tag, else modified probability is considered implicity. \n\nConsider using \"modkit update-tags /clusterfs/nilah/oberon/dimelo_dev_source/test_inputs/deep_ctcf_mod_mappings_merge.retagged.ma.sorted.bam new_file.bam --mode ambiguous\" in the command line with your conda environment active and then trying with the new file.",
     "output_type": "error",
     "traceback": [
      "\u001b[0;31m---------------------------------------------------------------------------\u001b[0m",
      "\u001b[0;31mValueError\u001b[0m                                Traceback (most recent call last)",
      "Cell \u001b[0;32mIn[4], line 1\u001b[0m\n\u001b[0;32m----> 1\u001b[0m \u001b[43mparse_bam\u001b[49m\u001b[38;5;241;43m.\u001b[39;49m\u001b[43mcheck_bam_format\u001b[49m\u001b[43m(\u001b[49m\n\u001b[1;32m      2\u001b[0m \u001b[43m    \u001b[49m\u001b[38;5;124;43m'\u001b[39;49m\u001b[38;5;124;43m/clusterfs/nilah/oberon/dimelo_dev_source/test_inputs/deep_ctcf_mod_mappings_merge.retagged.ma.sorted.bam\u001b[39;49m\u001b[38;5;124;43m'\u001b[39;49m\n\u001b[1;32m      3\u001b[0m \u001b[43m)\u001b[49m\n",
      "File \u001b[0;32m/clusterfs/nilah/oberon/repos/dimelo_modkit_parsing/dimelo/dimelo/parse_bam.py:85\u001b[0m, in \u001b[0;36mcheck_bam_format\u001b[0;34m(input_file, basemods)\u001b[0m\n\u001b[1;32m     83\u001b[0m \u001b[38;5;28;01melif\u001b[39;00m tag\u001b[38;5;241m==\u001b[39m\u001b[38;5;124m'\u001b[39m\u001b[38;5;124mMM\u001b[39m\u001b[38;5;124m'\u001b[39m:\n\u001b[1;32m     84\u001b[0m     \u001b[38;5;28;01mif\u001b[39;00m tag_value[\u001b[38;5;241m-\u001b[39m\u001b[38;5;241m1\u001b[39m]\u001b[38;5;241m!=\u001b[39m\u001b[38;5;124m'\u001b[39m\u001b[38;5;124m?\u001b[39m\u001b[38;5;124m'\u001b[39m \u001b[38;5;129;01mand\u001b[39;00m tag_value[\u001b[38;5;241m-\u001b[39m\u001b[38;5;241m1\u001b[39m]\u001b[38;5;241m!=\u001b[39m\u001b[38;5;124m'\u001b[39m\u001b[38;5;124m.\u001b[39m\u001b[38;5;124m'\u001b[39m:\n\u001b[0;32m---> 85\u001b[0m         \u001b[38;5;28;01mraise\u001b[39;00m \u001b[38;5;167;01mValueError\u001b[39;00m(\u001b[38;5;124mf\u001b[39m\u001b[38;5;124m'\u001b[39m\u001b[38;5;124mBase modification tags are out of spec. Need ? or . in TAG:TYPE:VALUE for MM tag, else modified probability is considered implicity. \u001b[39m\u001b[38;5;130;01m\\n\u001b[39;00m\u001b[38;5;130;01m\\n\u001b[39;00m\u001b[38;5;124mConsider using \u001b[39m\u001b[38;5;124m\"\u001b[39m\u001b[38;5;124mmodkit update-tags \u001b[39m\u001b[38;5;132;01m{\u001b[39;00m\u001b[38;5;28mstr\u001b[39m(input_file)\u001b[38;5;132;01m}\u001b[39;00m\u001b[38;5;124m new_file.bam --mode ambiguous\u001b[39m\u001b[38;5;124m\"\u001b[39m\u001b[38;5;124m in the command line with your conda environment active and then trying with the new file.\u001b[39m\u001b[38;5;124m'\u001b[39m)\n\u001b[1;32m     86\u001b[0m     \u001b[38;5;28;01melse\u001b[39;00m:\n\u001b[1;32m     87\u001b[0m         \u001b[38;5;28;01mif\u001b[39;00m tag_value[\u001b[38;5;241m2\u001b[39m] \u001b[38;5;129;01min\u001b[39;00m BASEMOD_NAMES_DICT[tag_value[\u001b[38;5;241m0\u001b[39m]]:\n",
      "\u001b[0;31mValueError\u001b[0m: Base modification tags are out of spec. Need ? or . in TAG:TYPE:VALUE for MM tag, else modified probability is considered implicity. \n\nConsider using \"modkit update-tags /clusterfs/nilah/oberon/dimelo_dev_source/test_inputs/deep_ctcf_mod_mappings_merge.retagged.ma.sorted.bam new_file.bam --mode ambiguous\" in the command line with your conda environment active and then trying with the new file."
     ]
    }
   ],
   "source": [
    "parse_bam.check_bam_format(\n",
    "    '/clusterfs/nilah/oberon/dimelo_dev_source/test_inputs/deep_ctcf_mod_mappings_merge.retagged.ma.sorted.bam'\n",
    ")"
   ]
  },
  {
   "cell_type": "code",
   "execution_count": 3,
   "id": "bd27d6d2",
   "metadata": {},
   "outputs": [
    {
     "name": "stdout",
     "output_type": "stream",
     "text": [
      "No output directory provided, using input directory /clusterfs/nilah/oberon/dimelo_dev_source/test_inputs\n",
      "Warning: window size 0bp will be ignored. Processing from region chr1:0-1000000.\n",
      "Logging to  /clusterfs/nilah/oberon/dimelo_dev_source/test_inputs/bam_format_check/pileup-log\n",
      "No specified number of cores requested. 32 available on machine, allocating 16\n",
      "No valid base modification threshold provided. Using adaptive threshold selection via modkit.\n"
     ]
    },
    {
     "name": "stderr",
     "output_type": "stream",
     "text": [
      "> parsing region chr1:0-1000000\n",
      "> calculated chunk size: 24, interval size 100000, processing 2400000 positions concurrently\n",
      "> Done, processed 0 rows. Processed ~0 reads and skipped ~2120 reads.\n"
     ]
    },
    {
     "data": {
      "text/plain": [
       "PosixPath('/clusterfs/nilah/oberon/dimelo_dev_source/test_inputs/bam_format_check/pileup.sorted.bed.gz')"
      ]
     },
     "execution_count": 3,
     "metadata": {},
     "output_type": "execute_result"
    }
   ],
   "source": [
    "parse_bam.pileup(\n",
    "    input_file = '/clusterfs/nilah/oberon/dimelo_dev_source/test_inputs/deep_ctcf_mod_mappings_merge.retagged.ma.sorted.bam',\n",
    "    output_name = 'bam_format_check',\n",
    "    ref_genome = '/clusterfs/nilah/oberon/dimelo_dev_source/test_inputs/genomes/chm13.draft_v1.0.fasta',\n",
    "    region_str = 'chr1:0-1000000',\n",
    "    log = True,\n",
    ")"
   ]
  },
  {
   "cell_type": "code",
   "execution_count": 3,
   "id": "d95c2b61",
   "metadata": {},
   "outputs": [
    {
     "name": "stdout",
     "output_type": "stream",
     "text": [
      "WARNING: no modified values found for ['A'] in the first 500 reads. Do you expect this file to contain these modifications? parse_bam is looking for ['A,0', 'CG,0'] but only found modifications on ['C']. \n",
      "\n",
      "Consider passing only the basemods that you expect to be present in your file.\n"
     ]
    }
   ],
   "source": [
    "parse_bam.check_bam_format(\n",
    "'/clusterfs/nilah/oberon/cd55_cas9/cas9_12ef_101923_misha_mod_mappings.retagged.sorted_mC_only.bam')"
   ]
  },
  {
   "cell_type": "code",
   "execution_count": null,
   "id": "4fbe0297",
   "metadata": {},
   "outputs": [],
   "source": []
  }
 ],
 "metadata": {
  "kernelspec": {
   "display_name": "dimelo_modkit_3.11",
   "language": "python",
   "name": "dimelo_modkit_3.11"
  },
  "language_info": {
   "codemirror_mode": {
    "name": "ipython",
    "version": 3
   },
   "file_extension": ".py",
   "mimetype": "text/x-python",
   "name": "python",
   "nbconvert_exporter": "python",
   "pygments_lexer": "ipython3",
   "version": "3.11.7"
  }
 },
 "nbformat": 4,
 "nbformat_minor": 5
}
