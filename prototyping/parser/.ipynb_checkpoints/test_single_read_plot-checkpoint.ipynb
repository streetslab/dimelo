{
 "cells": [
  {
   "cell_type": "code",
   "execution_count": 1,
   "id": "c6efaeab",
   "metadata": {},
   "outputs": [],
   "source": [
    "import parser\n",
    "import sys\n",
    "import os\n",
    "import matplotlib.pyplot as plt\n",
    "\n",
    "# Get the directory one level up\n",
    "parent_dir = os.path.dirname(os.getcwd())\n",
    "\n",
    "# Add the parent directory to sys.path\n",
    "sys.path.append(parent_dir)\n",
    "import plot_single_reads\n",
    "import utils"
   ]
  },
  {
   "cell_type": "code",
   "execution_count": 2,
   "id": "7540b30c",
   "metadata": {},
   "outputs": [
    {
     "name": "stdout",
     "output_type": "stream",
     "text": [
      "Loading regions from ENCFF797SDL.chm13v1.1.bed using even 500bp windows in either direction from bed region centers.\n",
      "Writing new bed file ENCFF797SDL.chm13v1.1.windowed.bed\n"
     ]
    },
    {
     "ename": "KeyboardInterrupt",
     "evalue": "",
     "output_type": "error",
     "traceback": [
      "\u001b[0;31m---------------------------------------------------------------------------\u001b[0m",
      "\u001b[0;31mKeyboardInterrupt\u001b[0m                         Traceback (most recent call last)",
      "Cell \u001b[0;32mIn[2], line 1\u001b[0m\n\u001b[0;32m----> 1\u001b[0m \u001b[43mplot_single_reads\u001b[49m\u001b[38;5;241;43m.\u001b[39;49m\u001b[43mextract_centered_reads_from_modkit_txt\u001b[49m\u001b[43m(\u001b[49m\n\u001b[1;32m      2\u001b[0m \u001b[43m    \u001b[49m\u001b[43mfile\u001b[49m\u001b[38;5;241;43m=\u001b[39;49m\u001b[38;5;124;43m'\u001b[39;49m\u001b[38;5;124;43m/clusterfs/nilah/oberon/datasets/dimelo_mA-mGpC/20230702_jm_lmnb1_acessibility_redux/megalodon_all_context/mod_mappings.01.parser.txt\u001b[39;49m\u001b[38;5;124;43m'\u001b[39;49m\u001b[43m,\u001b[49m\n\u001b[1;32m      3\u001b[0m \u001b[43m    \u001b[49m\u001b[43mbed_file\u001b[49m\u001b[38;5;241;43m=\u001b[39;49m\u001b[38;5;124;43m'\u001b[39;49m\u001b[38;5;124;43m/clusterfs/nilah/oberon/datasets/ctcf_peaks/ENCFF797SDL.chm13v1.1.bed\u001b[39;49m\u001b[38;5;124;43m'\u001b[39;49m\u001b[43m,\u001b[49m\n\u001b[1;32m      4\u001b[0m \u001b[43m    \u001b[49m\u001b[43mmod_names\u001b[49m\u001b[38;5;241;43m=\u001b[39;49m\u001b[43m[\u001b[49m\u001b[38;5;124;43m'\u001b[39;49m\u001b[38;5;124;43mA,0\u001b[39;49m\u001b[38;5;124;43m'\u001b[39;49m\u001b[43m]\u001b[49m\u001b[43m,\u001b[49m\n\u001b[1;32m      5\u001b[0m \u001b[43m    \u001b[49m\u001b[43mwindow_size\u001b[49m\u001b[38;5;241;43m=\u001b[39;49m\u001b[38;5;241;43m500\u001b[39;49m\u001b[43m,\u001b[49m\n\u001b[1;32m      6\u001b[0m \u001b[43m)\u001b[49m\n",
      "File \u001b[0;32m/clusterfs/nilah/oberon/repos/dimelo_modkit_parsing/dimelo/prototyping/plot_single_reads.py:101\u001b[0m, in \u001b[0;36mextract_centered_reads_from_modkit_txt\u001b[0;34m(file, bed_file, mod_names, window_size)\u001b[0m\n\u001b[1;32m     99\u001b[0m chrom \u001b[38;5;241m=\u001b[39m fields[\u001b[38;5;241m3\u001b[39m]\n\u001b[1;32m    100\u001b[0m coord \u001b[38;5;241m=\u001b[39m \u001b[38;5;28mint\u001b[39m(fields[\u001b[38;5;241m2\u001b[39m])\n\u001b[0;32m--> 101\u001b[0m \u001b[38;5;28;01mif\u001b[39;00m \u001b[43mbinary_search_region\u001b[49m\u001b[43m(\u001b[49m\u001b[43mregions_dict\u001b[49m\u001b[43m,\u001b[49m\u001b[43mchrom\u001b[49m\u001b[43m,\u001b[49m\u001b[43mcoord\u001b[49m\u001b[43m)\u001b[49m:\n\u001b[1;32m    102\u001b[0m     in_regions\u001b[38;5;241m+\u001b[39m\u001b[38;5;241m=\u001b[39m\u001b[38;5;241m1\u001b[39m\n\u001b[1;32m    103\u001b[0m \u001b[38;5;28;01melse\u001b[39;00m:\n",
      "File \u001b[0;32m/clusterfs/nilah/oberon/repos/dimelo_modkit_parsing/dimelo/prototyping/plot_single_reads.py:35\u001b[0m, in \u001b[0;36mbinary_search_region\u001b[0;34m(regions, chrom, position)\u001b[0m\n\u001b[1;32m     33\u001b[0m region_list \u001b[38;5;241m=\u001b[39m regions\u001b[38;5;241m.\u001b[39mget(chrom,[])\n\u001b[1;32m     34\u001b[0m left,right \u001b[38;5;241m=\u001b[39m \u001b[38;5;241m0\u001b[39m, \u001b[38;5;28mlen\u001b[39m(region_list)\u001b[38;5;241m-\u001b[39m\u001b[38;5;241m1\u001b[39m\n\u001b[0;32m---> 35\u001b[0m \u001b[38;5;28;01mwhile\u001b[39;00m left \u001b[38;5;241m<\u001b[39m\u001b[38;5;241m=\u001b[39m right:\n\u001b[1;32m     36\u001b[0m     mid \u001b[38;5;241m=\u001b[39m left \u001b[38;5;241m+\u001b[39m (right\u001b[38;5;241m-\u001b[39mleft)\u001b[38;5;241m/\u001b[39m\u001b[38;5;241m/\u001b[39m\u001b[38;5;241m2\u001b[39m\n\u001b[1;32m     37\u001b[0m     \u001b[38;5;28;01mif\u001b[39;00m region_list[mid][\u001b[38;5;241m0\u001b[39m] \u001b[38;5;241m<\u001b[39m\u001b[38;5;241m=\u001b[39m position \u001b[38;5;241m<\u001b[39m\u001b[38;5;241m=\u001b[39m region_list[mid][\u001b[38;5;241m1\u001b[39m]:\n",
      "\u001b[0;31mKeyboardInterrupt\u001b[0m: "
     ]
    }
   ],
   "source": [
    "plot_single_reads.extract_centered_reads_from_modkit_txt(\n",
    "    file='/clusterfs/nilah/oberon/datasets/dimelo_mA-mGpC/20230702_jm_lmnb1_acessibility_redux/megalodon_all_context/mod_mappings.01.parser.txt',\n",
    "    bed_file='/clusterfs/nilah/oberon/datasets/ctcf_peaks/ENCFF797SDL.chm13v1.1.bed',\n",
    "    mod_names=['A,0'],\n",
    "    window_size=500,\n",
    ")"
   ]
  },
  {
   "cell_type": "code",
   "execution_count": null,
   "id": "ee8d71b0",
   "metadata": {},
   "outputs": [],
   "source": [
    "utils.read_by_base_txt_to_hdf5(\n",
    "    '/clusterfs/nilah/oberon/datasets/dimelo_mA-mGpC/20230702_jm_lmnb1_acessibility_redux/megalodon_all_context/mod_mappings.01.parser.txt',\n",
    "    '/clusterfs/nilah/oberon/datasets/dimelo_mA-mGpC/20230702_jm_lmnb1_acessibility_redux/megalodon_all_context/mod_mappings.01.parser.h5'\n",
    ")"
   ]
  }
 ],
 "metadata": {
  "kernelspec": {
   "display_name": "dimelo_modkit_3.11",
   "language": "python",
   "name": "dimelo_modkit_3.11"
  },
  "language_info": {
   "codemirror_mode": {
    "name": "ipython",
    "version": 3
   },
   "file_extension": ".py",
   "mimetype": "text/x-python",
   "name": "python",
   "nbconvert_exporter": "python",
   "pygments_lexer": "ipython3",
   "version": "3.11.7"
  }
 },
 "nbformat": 4,
 "nbformat_minor": 5
}
