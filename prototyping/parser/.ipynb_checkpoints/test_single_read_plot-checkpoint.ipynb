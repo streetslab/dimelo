{
 "cells": [
  {
   "cell_type": "code",
   "execution_count": 1,
   "id": "da7dca57",
   "metadata": {},
   "outputs": [],
   "source": [
    "import parser\n",
    "import sys\n",
    "import os\n",
    "import matplotlib.pyplot as plt\n",
    "import h5py\n",
    "\n",
    "# Get the directory one level up\n",
    "parent_dir = os.path.dirname(os.getcwd())\n",
    "\n",
    "# Add the parent directory to sys.path\n",
    "sys.path.append(parent_dir)\n",
    "import plot_single_reads\n",
    "import utils"
   ]
  },
  {
   "cell_type": "code",
   "execution_count": 2,
   "id": "892b28c6",
   "metadata": {},
   "outputs": [
    {
     "name": "stdout",
     "output_type": "stream",
     "text": [
      "Processing from chr1_1MB.bed using even 500000bp windows in either direction from bed region centers.\n",
      "Writing new bed file chr1_1MB.windowed.bed\n",
      "Allocating requested 32 cores.\n",
      "Modification threshold of 0.9 will be treated as coming from range 0-1.\n",
      "Extracting A,0 sites\n",
      "logging to  /clusterfs/nilah/oberon/datasets/dimelo_mA-mGpC/20230702_jm_lmnb1_acessibility_redux/megalodon_all_context/extract-log\n"
     ]
    },
    {
     "name": "stderr",
     "output_type": "stream",
     "text": [
      "> specifying include-only BED outputs only mapped sites\n",
      "> parsing BED at /clusterfs/nilah/oberon/datasets/dimelo_mA-mGpC/20230702_jm_lmnb1_acessibility_redux/megalodon_all_context/chr1_1MB.windowed.bed\n",
      "> processed 1 BED lines\n",
      "> found BAM index, processing reads in 100000 base pair chunks\n",
      "> Error! refusing to write over existing file \"/clusterfs/nilah/oberon/datasets/dimelo_mA-mGpC/20230702_jm_lmnb1_acessibility_redux/megalodon_all_context/mod_mappings.01.chr1_1MB.A,0.txt\"\n"
     ]
    },
    {
     "name": "stdout",
     "output_type": "stream",
     "text": [
      "Adding A,0 to /clusterfs/nilah/oberon/datasets/dimelo_mA-mGpC/20230702_jm_lmnb1_acessibility_redux/megalodon_all_context/mod_mappings.01.chr1_1MB.h5\n",
      "123 reads found in /clusterfs/nilah/oberon/datasets/dimelo_mA-mGpC/20230702_jm_lmnb1_acessibility_redux/megalodon_all_context/mod_mappings.01.chr1_1MB.A,0.txt\n",
      "Extracting CG,0 sites\n",
      "logging to  /clusterfs/nilah/oberon/datasets/dimelo_mA-mGpC/20230702_jm_lmnb1_acessibility_redux/megalodon_all_context/extract-log\n"
     ]
    },
    {
     "name": "stderr",
     "output_type": "stream",
     "text": [
      "> specifying include-only BED outputs only mapped sites\n",
      "> parsing BED at /clusterfs/nilah/oberon/datasets/dimelo_mA-mGpC/20230702_jm_lmnb1_acessibility_redux/megalodon_all_context/chr1_1MB.windowed.bed\n",
      "> processed 1 BED lines\n",
      "> found BAM index, processing reads in 100000 base pair chunks\n",
      "> Error! refusing to write over existing file \"/clusterfs/nilah/oberon/datasets/dimelo_mA-mGpC/20230702_jm_lmnb1_acessibility_redux/megalodon_all_context/mod_mappings.01.chr1_1MB.CG,0.txt\"\n"
     ]
    },
    {
     "name": "stdout",
     "output_type": "stream",
     "text": [
      "Adding CG,0 to /clusterfs/nilah/oberon/datasets/dimelo_mA-mGpC/20230702_jm_lmnb1_acessibility_redux/megalodon_all_context/mod_mappings.01.chr1_1MB.h5\n",
      "123 reads found in /clusterfs/nilah/oberon/datasets/dimelo_mA-mGpC/20230702_jm_lmnb1_acessibility_redux/megalodon_all_context/mod_mappings.01.chr1_1MB.CG,0.txt\n",
      "extending from 123 to 246\n",
      "Extracting GCH,1 sites\n",
      "logging to  /clusterfs/nilah/oberon/datasets/dimelo_mA-mGpC/20230702_jm_lmnb1_acessibility_redux/megalodon_all_context/extract-log\n"
     ]
    },
    {
     "name": "stderr",
     "output_type": "stream",
     "text": [
      "> specifying include-only BED outputs only mapped sites\n",
      "> parsing BED at /clusterfs/nilah/oberon/datasets/dimelo_mA-mGpC/20230702_jm_lmnb1_acessibility_redux/megalodon_all_context/chr1_1MB.windowed.bed\n",
      "> processed 1 BED lines\n",
      "> found BAM index, processing reads in 100000 base pair chunks\n",
      "> Error! refusing to write over existing file \"/clusterfs/nilah/oberon/datasets/dimelo_mA-mGpC/20230702_jm_lmnb1_acessibility_redux/megalodon_all_context/mod_mappings.01.chr1_1MB.GCH,1.txt\"\n"
     ]
    },
    {
     "name": "stdout",
     "output_type": "stream",
     "text": [
      "Adding GCH,1 to /clusterfs/nilah/oberon/datasets/dimelo_mA-mGpC/20230702_jm_lmnb1_acessibility_redux/megalodon_all_context/mod_mappings.01.chr1_1MB.h5\n",
      "123 reads found in /clusterfs/nilah/oberon/datasets/dimelo_mA-mGpC/20230702_jm_lmnb1_acessibility_redux/megalodon_all_context/mod_mappings.01.chr1_1MB.GCH,1.txt\n",
      "extending from 246 to 369\n",
      "0\n"
     ]
    }
   ],
   "source": [
    "num_cores = 32\n",
    "print(parser.parse_bam_modkit_extract(\n",
    "    input_file='/clusterfs/nilah/oberon/datasets/dimelo_mA-mGpC/20230702_jm_lmnb1_acessibility_redux/megalodon_all_context/mod_mappings.01.retagged.ma.sorted.bam',\n",
    "    output_path='/clusterfs/nilah/oberon/datasets/dimelo_mA-mGpC/20230702_jm_lmnb1_acessibility_redux/megalodon_all_context',\n",
    "    output_name='mod_mappings.01.chr1_1MB',\n",
    "    ref_genome='/clusterfs/nilah/oberon/genomes/chm13.draft_v1.1.fasta',\n",
    "    bed_file='/clusterfs/nilah/oberon/datasets/dimelo_mA-mGpC/20230702_jm_lmnb1_acessibility_redux/megalodon_all_context/chr1_1MB.bed',\n",
    "    thresh=0.9,\n",
    "    window_size=500000,\n",
    "    cores=num_cores,\n",
    "    log=True,\n",
    "))"
   ]
  },
  {
   "cell_type": "code",
   "execution_count": 5,
   "id": "65a1a37e",
   "metadata": {},
   "outputs": [
    {
     "name": "stdout",
     "output_type": "stream",
     "text": [
      "Processing from ENCFF797SDL-first-100.chm13v1.0.bed using even 500bp windows in either direction from bed region centers.\n",
      "Writing new bed file ENCFF797SDL-first-100.chm13v1.0.windowed.bed\n",
      "Allocating requested 32 cores.\n",
      "Modification threshold of 0.9 will be treated as coming from range 0-1.\n",
      "Extracting A,0 sites\n"
     ]
    },
    {
     "name": "stderr",
     "output_type": "stream",
     "text": [
      "> specifying include-only BED outputs only mapped sites\n",
      "> parsing BED at /clusterfs/nilah/oberon/datasets/ctcf_peaks/ENCFF797SDL-first-100.chm13v1.0.windowed.bed\n",
      "> processed 100 BED lines\n",
      "> found BAM index, processing reads in 100000 base pair chunks\n",
      "> Error! refusing to write over existing file \"/clusterfs/nilah/oberon/dimelo_dev_source/test_inputs/deep_ctcf_ENCFF797SDL-first-100.A,0.txt\"\n"
     ]
    },
    {
     "name": "stdout",
     "output_type": "stream",
     "text": [
      "Adding A,0 to /clusterfs/nilah/oberon/dimelo_dev_source/test_inputs/deep_ctcf_ENCFF797SDL-first-100.h5\n",
      "2725 reads found in /clusterfs/nilah/oberon/dimelo_dev_source/test_inputs/deep_ctcf_ENCFF797SDL-first-100.A,0.txt\n",
      "Extracting CG,0 sites\n"
     ]
    },
    {
     "name": "stderr",
     "output_type": "stream",
     "text": [
      "> specifying include-only BED outputs only mapped sites\n",
      "> parsing BED at /clusterfs/nilah/oberon/datasets/ctcf_peaks/ENCFF797SDL-first-100.chm13v1.0.windowed.bed\n",
      "> processed 100 BED lines\n",
      "> found BAM index, processing reads in 100000 base pair chunks\n",
      "> Error! refusing to write over existing file \"/clusterfs/nilah/oberon/dimelo_dev_source/test_inputs/deep_ctcf_ENCFF797SDL-first-100.CG,0.txt\"\n"
     ]
    },
    {
     "name": "stdout",
     "output_type": "stream",
     "text": [
      "Adding CG,0 to /clusterfs/nilah/oberon/dimelo_dev_source/test_inputs/deep_ctcf_ENCFF797SDL-first-100.h5\n",
      "2699 reads found in /clusterfs/nilah/oberon/dimelo_dev_source/test_inputs/deep_ctcf_ENCFF797SDL-first-100.CG,0.txt\n",
      "extending from 2725 to 5424\n",
      "Extracting GCH,1 sites\n"
     ]
    },
    {
     "name": "stderr",
     "output_type": "stream",
     "text": [
      "> specifying include-only BED outputs only mapped sites\n",
      "> parsing BED at /clusterfs/nilah/oberon/datasets/ctcf_peaks/ENCFF797SDL-first-100.chm13v1.0.windowed.bed\n",
      "> processed 100 BED lines\n",
      "> found BAM index, processing reads in 100000 base pair chunks\n",
      "> Error! refusing to write over existing file \"/clusterfs/nilah/oberon/dimelo_dev_source/test_inputs/deep_ctcf_ENCFF797SDL-first-100.GCH,1.txt\"\n"
     ]
    },
    {
     "name": "stdout",
     "output_type": "stream",
     "text": [
      "Adding GCH,1 to /clusterfs/nilah/oberon/dimelo_dev_source/test_inputs/deep_ctcf_ENCFF797SDL-first-100.h5\n",
      "2721 reads found in /clusterfs/nilah/oberon/dimelo_dev_source/test_inputs/deep_ctcf_ENCFF797SDL-first-100.GCH,1.txt\n",
      "extending from 5424 to 8145\n"
     ]
    }
   ],
   "source": [
    "num_cores = 32\n",
    "deep_ctcf_first100 = parser.parse_bam_modkit_extract(\n",
    "    input_file='/clusterfs/nilah/oberon/dimelo_dev_source/test_inputs/deep_ctcf_mod_mappings_merge.retagged.sorted.bam',\n",
    "    output_path='/clusterfs/nilah/oberon/dimelo_dev_source/test_inputs/',\n",
    "    output_name='deep_ctcf_ENCFF797SDL-first-100',\n",
    "    ref_genome='/clusterfs/nilah/oberon/dimelo_dev_source/test_inputs/genomes/chm13.draft_v1.0.fasta',\n",
    "    bed_file='/clusterfs/nilah/oberon/datasets/ctcf_peaks/ENCFF797SDL-first-100.chm13v1.0.bed',\n",
    "    thresh=0.9,\n",
    "    window_size=500,\n",
    "    cores=num_cores,\n",
    "    log=False,\n",
    ")"
   ]
  },
  {
   "cell_type": "code",
   "execution_count": 7,
   "id": "30cb2e80",
   "metadata": {},
   "outputs": [
    {
     "name": "stdout",
     "output_type": "stream",
     "text": [
      "/clusterfs/nilah/oberon/dimelo_dev_source/test_inputs/deep_ctcf_ENCFF797SDL-first-100.h5\n"
     ]
    }
   ],
   "source": [
    "print(deep_ctcf_first100)"
   ]
  },
  {
   "cell_type": "code",
   "execution_count": 2,
   "id": "db89e15d",
   "metadata": {},
   "outputs": [],
   "source": [
    "deep_ctcf_first100 = '/clusterfs/nilah/oberon/dimelo_dev_source/test_inputs/deep_ctcf_ENCFF797SDL-first-100.h5'"
   ]
  },
  {
   "cell_type": "code",
   "execution_count": 3,
   "id": "21d23823",
   "metadata": {
    "scrolled": false
   },
   "outputs": [
    {
     "name": "stdout",
     "output_type": "stream",
     "text": [
      "Loading regions from ENCFF797SDL-first-100.chm13v1.0.bed using even 500bp windows in either direction from bed region centers.\n",
      "Writing new bed file ENCFF797SDL-first-100.chm13v1.0.windowed.bed\n"
     ]
    },
    {
     "data": {
      "text/plain": [
       "Text(0.5, 1.0, 'Deep CTCF first 100 ChIP-seq peaks from ENCFF797SDL')"
      ]
     },
     "execution_count": 3,
     "metadata": {},
     "output_type": "execute_result"
    },
    {
     "data": {
      "image/png": "[encoded data removed]",
      "text/plain": [
       "<Figure size 640x480 with 1 Axes>"
      ]
     },
     "metadata": {},
     "output_type": "display_data"
    }
   ],
   "source": [
    "num_cores = 32\n",
    "plot_single_reads.plot_single_reads_rectangle(\n",
    "    mod_file_name=deep_ctcf_first100,\n",
    "    bed_file_name='/clusterfs/nilah/oberon/datasets/ctcf_peaks/ENCFF797SDL-first-100.chm13v1.0.bed',\n",
    "    mod_names=['A,0','CG,0','GCH,1'],\n",
    "    window_size=500)\n",
    "plt.title('Deep CTCF first 100 ChIP-seq peaks from ENCFF797SDL')\n"
   ]
  },
  {
   "cell_type": "code",
   "execution_count": 3,
   "id": "90cba2cb",
   "metadata": {},
   "outputs": [
    {
     "name": "stdout",
     "output_type": "stream",
     "text": [
      "Using window size defined by bed file chr1_1MB.bed.\n",
      "starts [ 691260  697296  715955  719924  735264  749265  761641  771894  774826\n",
      "  787166  460934  494592  507411  508130  512231  520769  528401  553073\n",
      "  566876  582009  582054  594456  595841  801151  843493  846684  849827\n",
      "  858371  876186  877358  880422  881022  601010  602699  610310  625031\n",
      "  645481  649696  650310  662936  671884  684637  689192  689645  971616\n",
      "  980238  999384 1003449 1004618 1008091 1038599 1055934 1067243 1068809\n",
      " 1075352 1078394 1091356 1092141 1281381 1292576 1294191 1313624 1320563\n",
      " 1322956 1324600 1328345 1354193 1354752 1364524 1365323 1375357 1390888\n",
      " 1396101 1198769 1199277 1203170 1217093 1220542 1228201 1238157 1247935\n",
      " 1248888 1250798 1253546 1257969 1258615 1278432  900049  921196  923163\n",
      "  939052  945061  966301  975244  997290 1101810 1102297 1124497 1129688\n",
      " 1137760 1144781 1148734 1153563 1156493 1161469 1166300 1169764 1174571\n",
      " 1404845 1406570 1407071 1430171 1431460 1434520 1435933 1437718 1444395\n",
      " 1444953 1445487 1449755 1472336 1472681 1493152  971616  980238  999384\n",
      " 1003449 1004618 1008091 1038599 1055934 1067243 1068809 1075352 1078394\n",
      " 1091356 1092141  460934  494592  507411  508130  512231  520769  528401\n",
      "  553073  566876  582009  582054  594456  595841  601010  602699  610310\n",
      "  625031  645481  649696  650310  662936  671884  684637  689192  689645\n",
      "  691260  697296  715955  719924  735264  749265  761641  771894  774826\n",
      "  787166  801151  843493  846684  849827  858371  876186  877358  880422\n",
      "  881022 1101810 1102297 1124497 1129688 1137760 1144781 1148734 1153563\n",
      " 1156493 1161469 1166300 1169764 1174571 1198769 1199277 1203170 1217093\n",
      " 1220542 1228201 1238157 1247935 1248888 1250798 1253546 1257969 1258615\n",
      " 1278432 1281381 1292576 1294191  900049  921196  923163  939052  945061\n",
      "  966301  975244  997290 1313624 1320563 1322956 1324600 1328345 1354193\n",
      " 1354752 1364524 1365323 1375357 1390888 1396101 1404845 1406570 1407071\n",
      " 1430171 1431460 1434520 1435933 1437718 1444395 1444953 1445487 1449755\n",
      " 1472336 1472681 1493152  801151  843493  846684  849827  858371  876186\n",
      "  877358  880422  881022  460934  494592  507411  508130  512231  520769\n",
      "  528401  553073  566876  582009  582054  594456  595841  691260  697296\n",
      "  715955  719924  735264  749265  761641  771894  774826  787166  971616\n",
      "  980238  999384 1003449 1004618 1008091 1038599 1055934 1067243 1068809\n",
      " 1075352 1078394 1091356 1092141  900049  921196  923163  939052  945061\n",
      "  966301  975244  997290  601010  602699  610310  625031  645481  649696\n",
      "  650310  662936  671884  684637  689192  689645 1101810 1102297 1124497\n",
      " 1129688 1137760 1144781 1148734 1153563 1156493 1161469 1166300 1169764\n",
      " 1174571 1198769 1199277 1203170 1217093 1220542 1228201 1238157 1247935\n",
      " 1248888 1250798 1253546 1257969 1258615 1278432 1281381 1292576 1294191\n",
      " 1313624 1320563 1322956 1324600 1328345 1354193 1354752 1364524 1365323\n",
      " 1375357 1390888 1396101 1404845 1406570 1407071 1430171 1431460 1434520\n",
      " 1435933 1437718 1444395 1444953 1445487 1449755 1472336 1472681 1493152]\n",
      "ends [ 709081  702502  736270  737449  735983  764935  782752  791595  786319\n",
      "  794125  504018  503223  523372  510902  515663  524472  531648  559857\n",
      "  575490  599129  583115  603247  601542  801575  847343  868867  852230\n",
      "  860169  882025  883294  914883  882499  603678  619666  625057  625550\n",
      "  666457  662824  659955  669431  675502  697770  689422  693887 1006685\n",
      " 1011366 1000908 1009132 1015265 1017610 1046690 1072493 1075970 1072132\n",
      " 1083335 1088730 1096764 1102720 1306211 1326282 1309533 1333357 1326758\n",
      " 1324669 1328204 1348462 1358041 1362421 1367605 1366297 1379846 1395570\n",
      " 1409898 1200318 1201970 1208313 1233917 1226388 1243686 1243580 1260768\n",
      " 1263677 1258022 1262053 1271050 1270315 1282692  921912  946822  930082\n",
      "  939261  946346  988362  984883  998687 1111884 1114226 1127254 1136092\n",
      " 1140108 1151299 1153220 1160654 1179657 1176911 1195919 1170410 1181413\n",
      " 1430103 1412677 1409939 1437316 1431689 1443373 1445834 1443155 1448750\n",
      " 1486760 1447216 1454269 1479162 1478050 1496863 1006685 1011366 1000908\n",
      " 1009132 1015265 1017610 1046690 1072493 1075970 1072132 1083335 1088730\n",
      " 1096764 1102720  504018  503223  523372  510902  515663  524472  531648\n",
      "  559857  575490  599129  583115  603247  601542  603678  619666  625057\n",
      "  625550  666457  662824  659955  669431  675502  697770  689422  693887\n",
      "  709081  702502  736270  737449  735983  764935  782752  791595  786319\n",
      "  794125  801575  847343  868867  852230  860169  882025  883294  914883\n",
      "  882499 1111884 1114226 1127254 1136092 1140108 1151299 1153220 1160654\n",
      " 1179657 1176911 1195919 1170410 1181413 1200318 1201970 1208313 1233917\n",
      " 1226388 1243686 1243580 1260768 1263677 1258022 1262053 1271050 1270315\n",
      " 1282692 1306211 1326282 1309533  921912  946822  930082  939261  946346\n",
      "  988362  984883  998687 1333357 1326758 1324669 1328204 1348462 1358041\n",
      " 1362421 1367605 1366297 1379846 1395570 1409898 1430103 1412677 1409939\n",
      " 1437316 1431689 1443373 1445834 1443155 1448750 1486760 1447216 1454269\n",
      " 1479162 1478050 1496863  801575  847343  868867  852230  860169  882025\n",
      "  883294  914883  882499  504018  503223  523372  510902  515663  524472\n",
      "  531648  559857  575490  599129  583115  603247  601542  709081  702502\n",
      "  736270  737449  735983  764935  782752  791595  786319  794125 1006685\n",
      " 1011366 1000908 1009132 1015265 1017610 1046690 1072493 1075970 1072132\n",
      " 1083335 1088730 1096764 1102720  921912  946822  930082  939261  946346\n",
      "  988362  984883  998687  603678  619666  625057  625550  666457  662824\n",
      "  659955  669431  675502  697770  689422  693887 1111884 1114226 1127254\n",
      " 1136092 1140108 1151299 1153220 1160654 1179657 1176911 1195919 1170410\n",
      " 1181413 1200318 1201970 1208313 1233917 1226388 1243686 1243580 1260768\n",
      " 1263677 1258022 1262053 1271050 1270315 1282692 1306211 1326282 1309533\n",
      " 1333357 1326758 1324669 1328204 1348462 1358041 1362421 1367605 1366297\n",
      " 1379846 1395570 1409898 1430103 1412677 1409939 1437316 1431689 1443373\n",
      " 1445834 1443155 1448750 1486760 1447216 1454269 1479162 1478050 1496863]\n",
      "chr1 500000 1500001\n",
      "[  0   1   2   3   4   5   6   7   8   9  10  11  12  13  14  15  16  17\n",
      "  18  19  20  21  22  23  24  25  26  27  28  29  30  31  32  33  34  35\n",
      "  36  37  38  39  40  41  42  43  44  45  46  47  48  49  50  51  52  53\n",
      "  54  55  56  57  58  59  60  61  62  63  64  65  66  67  68  69  70  71\n",
      "  72  73  74  75  76  77  78  79  80  81  82  83  84  85  86  87  88  89\n",
      "  90  91  92  93  94  95  96  97  98  99 100 101 102 103 104 105 106 107\n",
      " 108 109 110 111 112 113 114 115 116 117 118 119 120 121 122]\n",
      "chr1 500000 1500001\n",
      "[123 124 125 126 127 128 129 130 131 132 133 134 135 136 137 138 139 140\n",
      " 141 142 143 144 145 146 147 148 149 150 151 152 153 154 155 156 157 158\n",
      " 159 160 161 162 163 164 165 166 167 168 169 170 171 172 173 174 175 176\n",
      " 177 178 179 180 181 182 183 184 185 186 187 188 189 190 191 192 193 194\n",
      " 195 196 197 198 199 200 201 202 203 204 205 206 207 208 209 210 211 212\n",
      " 213 214 215 216 217 218 219 220 221 222 223 224 225 226 227 228 229 230\n",
      " 231 232 233 234 235 236 237 238 239 240 241 242 243 244 245]\n",
      "chr1 500000 1500001\n",
      "[246 247 248 249 250 251 252 253 254 255 256 257 258 259 260 261 262 263\n",
      " 264 265 266 267 268 269 270 271 272 273 274 275 276 277 278 279 280 281\n",
      " 282 283 284 285 286 287 288 289 290 291 292 293 294 295 296 297 298 299\n",
      " 300 301 302 303 304 305 306 307 308 309 310 311 312 313 314 315 316 317\n",
      " 318 319 320 321 322 323 324 325 326 327 328 329 330 331 332 333 334 335\n",
      " 336 337 338 339 340 341 342 343 344 345 346 347 348 349 350 351 352 353\n",
      " 354 355 356 357 358 359 360 361 362 363 364 365 366 367 368]\n"
     ]
    },
    {
     "data": {
      "text/plain": [
       "(array([-149948, -134427, -134252, ...,  495326,  496227,  496848]),\n",
       " array([ 25,  25,  25, ..., 122, 122, 122]),\n",
       " array(['A,0', 'A,0', 'A,0', ..., 'GCH,1', 'GCH,1', 'GCH,1'], dtype='<U5'))"
      ]
     },
     "execution_count": 3,
     "metadata": {},
     "output_type": "execute_result"
    }
   ],
   "source": [
    "plot_single_reads.extract_centered_reads_from_hdf5(\n",
    "    file='/clusterfs/nilah/oberon/datasets/dimelo_mA-mGpC/20230702_jm_lmnb1_acessibility_redux/megalodon_all_context/mod_mappings.01.chr1_1MB.h5',\n",
    "    bed_file='/clusterfs/nilah/oberon/datasets/dimelo_mA-mGpC/20230702_jm_lmnb1_acessibility_redux/megalodon_all_context/chr1_1MB.bed',\n",
    "    mod_names=['A,0','CG,0','GCH,1'],\n",
    ")"
   ]
  },
  {
   "cell_type": "code",
   "execution_count": 4,
   "id": "3ecfc9b9",
   "metadata": {
    "scrolled": false
   },
   "outputs": [
    {
     "name": "stdout",
     "output_type": "stream",
     "text": [
      "Using window size defined by bed file chr1_1MB.bed.\n",
      "starts [ 691260  697296  715955  719924  735264  749265  761641  771894  774826\n",
      "  787166  460934  494592  507411  508130  512231  520769  528401  553073\n",
      "  566876  582009  582054  594456  595841  801151  843493  846684  849827\n",
      "  858371  876186  877358  880422  881022  601010  602699  610310  625031\n",
      "  645481  649696  650310  662936  671884  684637  689192  689645  971616\n",
      "  980238  999384 1003449 1004618 1008091 1038599 1055934 1067243 1068809\n",
      " 1075352 1078394 1091356 1092141 1281381 1292576 1294191 1313624 1320563\n",
      " 1322956 1324600 1328345 1354193 1354752 1364524 1365323 1375357 1390888\n",
      " 1396101 1198769 1199277 1203170 1217093 1220542 1228201 1238157 1247935\n",
      " 1248888 1250798 1253546 1257969 1258615 1278432  900049  921196  923163\n",
      "  939052  945061  966301  975244  997290 1101810 1102297 1124497 1129688\n",
      " 1137760 1144781 1148734 1153563 1156493 1161469 1166300 1169764 1174571\n",
      " 1404845 1406570 1407071 1430171 1431460 1434520 1435933 1437718 1444395\n",
      " 1444953 1445487 1449755 1472336 1472681 1493152  971616  980238  999384\n",
      " 1003449 1004618 1008091 1038599 1055934 1067243 1068809 1075352 1078394\n",
      " 1091356 1092141  460934  494592  507411  508130  512231  520769  528401\n",
      "  553073  566876  582009  582054  594456  595841  601010  602699  610310\n",
      "  625031  645481  649696  650310  662936  671884  684637  689192  689645\n",
      "  691260  697296  715955  719924  735264  749265  761641  771894  774826\n",
      "  787166  801151  843493  846684  849827  858371  876186  877358  880422\n",
      "  881022 1101810 1102297 1124497 1129688 1137760 1144781 1148734 1153563\n",
      " 1156493 1161469 1166300 1169764 1174571 1198769 1199277 1203170 1217093\n",
      " 1220542 1228201 1238157 1247935 1248888 1250798 1253546 1257969 1258615\n",
      " 1278432 1281381 1292576 1294191  900049  921196  923163  939052  945061\n",
      "  966301  975244  997290 1313624 1320563 1322956 1324600 1328345 1354193\n",
      " 1354752 1364524 1365323 1375357 1390888 1396101 1404845 1406570 1407071\n",
      " 1430171 1431460 1434520 1435933 1437718 1444395 1444953 1445487 1449755\n",
      " 1472336 1472681 1493152  801151  843493  846684  849827  858371  876186\n",
      "  877358  880422  881022  460934  494592  507411  508130  512231  520769\n",
      "  528401  553073  566876  582009  582054  594456  595841  691260  697296\n",
      "  715955  719924  735264  749265  761641  771894  774826  787166  971616\n",
      "  980238  999384 1003449 1004618 1008091 1038599 1055934 1067243 1068809\n",
      " 1075352 1078394 1091356 1092141  900049  921196  923163  939052  945061\n",
      "  966301  975244  997290  601010  602699  610310  625031  645481  649696\n",
      "  650310  662936  671884  684637  689192  689645 1101810 1102297 1124497\n",
      " 1129688 1137760 1144781 1148734 1153563 1156493 1161469 1166300 1169764\n",
      " 1174571 1198769 1199277 1203170 1217093 1220542 1228201 1238157 1247935\n",
      " 1248888 1250798 1253546 1257969 1258615 1278432 1281381 1292576 1294191\n",
      " 1313624 1320563 1322956 1324600 1328345 1354193 1354752 1364524 1365323\n",
      " 1375357 1390888 1396101 1404845 1406570 1407071 1430171 1431460 1434520\n",
      " 1435933 1437718 1444395 1444953 1445487 1449755 1472336 1472681 1493152]\n",
      "ends [ 709081  702502  736270  737449  735983  764935  782752  791595  786319\n",
      "  794125  504018  503223  523372  510902  515663  524472  531648  559857\n",
      "  575490  599129  583115  603247  601542  801575  847343  868867  852230\n",
      "  860169  882025  883294  914883  882499  603678  619666  625057  625550\n",
      "  666457  662824  659955  669431  675502  697770  689422  693887 1006685\n",
      " 1011366 1000908 1009132 1015265 1017610 1046690 1072493 1075970 1072132\n",
      " 1083335 1088730 1096764 1102720 1306211 1326282 1309533 1333357 1326758\n",
      " 1324669 1328204 1348462 1358041 1362421 1367605 1366297 1379846 1395570\n",
      " 1409898 1200318 1201970 1208313 1233917 1226388 1243686 1243580 1260768\n",
      " 1263677 1258022 1262053 1271050 1270315 1282692  921912  946822  930082\n",
      "  939261  946346  988362  984883  998687 1111884 1114226 1127254 1136092\n",
      " 1140108 1151299 1153220 1160654 1179657 1176911 1195919 1170410 1181413\n",
      " 1430103 1412677 1409939 1437316 1431689 1443373 1445834 1443155 1448750\n",
      " 1486760 1447216 1454269 1479162 1478050 1496863 1006685 1011366 1000908\n",
      " 1009132 1015265 1017610 1046690 1072493 1075970 1072132 1083335 1088730\n",
      " 1096764 1102720  504018  503223  523372  510902  515663  524472  531648\n",
      "  559857  575490  599129  583115  603247  601542  603678  619666  625057\n",
      "  625550  666457  662824  659955  669431  675502  697770  689422  693887\n",
      "  709081  702502  736270  737449  735983  764935  782752  791595  786319\n",
      "  794125  801575  847343  868867  852230  860169  882025  883294  914883\n",
      "  882499 1111884 1114226 1127254 1136092 1140108 1151299 1153220 1160654\n",
      " 1179657 1176911 1195919 1170410 1181413 1200318 1201970 1208313 1233917\n",
      " 1226388 1243686 1243580 1260768 1263677 1258022 1262053 1271050 1270315\n",
      " 1282692 1306211 1326282 1309533  921912  946822  930082  939261  946346\n",
      "  988362  984883  998687 1333357 1326758 1324669 1328204 1348462 1358041\n",
      " 1362421 1367605 1366297 1379846 1395570 1409898 1430103 1412677 1409939\n",
      " 1437316 1431689 1443373 1445834 1443155 1448750 1486760 1447216 1454269\n",
      " 1479162 1478050 1496863  801575  847343  868867  852230  860169  882025\n",
      "  883294  914883  882499  504018  503223  523372  510902  515663  524472\n",
      "  531648  559857  575490  599129  583115  603247  601542  709081  702502\n",
      "  736270  737449  735983  764935  782752  791595  786319  794125 1006685\n",
      " 1011366 1000908 1009132 1015265 1017610 1046690 1072493 1075970 1072132\n",
      " 1083335 1088730 1096764 1102720  921912  946822  930082  939261  946346\n",
      "  988362  984883  998687  603678  619666  625057  625550  666457  662824\n",
      "  659955  669431  675502  697770  689422  693887 1111884 1114226 1127254\n",
      " 1136092 1140108 1151299 1153220 1160654 1179657 1176911 1195919 1170410\n",
      " 1181413 1200318 1201970 1208313 1233917 1226388 1243686 1243580 1260768\n",
      " 1263677 1258022 1262053 1271050 1270315 1282692 1306211 1326282 1309533\n",
      " 1333357 1326758 1324669 1328204 1348462 1358041 1362421 1367605 1366297\n",
      " 1379846 1395570 1409898 1430103 1412677 1409939 1437316 1431689 1443373\n",
      " 1445834 1443155 1448750 1486760 1447216 1454269 1479162 1478050 1496863]\n",
      "chr1 500000 1500001\n",
      "[  0   1   2   3   4   5   6   7   8   9  10  11  12  13  14  15  16  17\n",
      "  18  19  20  21  22  23  24  25  26  27  28  29  30  31  32  33  34  35\n",
      "  36  37  38  39  40  41  42  43  44  45  46  47  48  49  50  51  52  53\n",
      "  54  55  56  57  58  59  60  61  62  63  64  65  66  67  68  69  70  71\n",
      "  72  73  74  75  76  77  78  79  80  81  82  83  84  85  86  87  88  89\n",
      "  90  91  92  93  94  95  96  97  98  99 100 101 102 103 104 105 106 107\n",
      " 108 109 110 111 112 113 114 115 116 117 118 119 120 121 122]\n",
      "chr1 500000 1500001\n",
      "[123 124 125 126 127 128 129 130 131 132 133 134 135 136 137 138 139 140\n",
      " 141 142 143 144 145 146 147 148 149 150 151 152 153 154 155 156 157 158\n",
      " 159 160 161 162 163 164 165 166 167 168 169 170 171 172 173 174 175 176\n",
      " 177 178 179 180 181 182 183 184 185 186 187 188 189 190 191 192 193 194\n",
      " 195 196 197 198 199 200 201 202 203 204 205 206 207 208 209 210 211 212\n",
      " 213 214 215 216 217 218 219 220 221 222 223 224 225 226 227 228 229 230\n",
      " 231 232 233 234 235 236 237 238 239 240 241 242 243 244 245]\n",
      "chr1 500000 1500001\n",
      "[246 247 248 249 250 251 252 253 254 255 256 257 258 259 260 261 262 263\n",
      " 264 265 266 267 268 269 270 271 272 273 274 275 276 277 278 279 280 281\n",
      " 282 283 284 285 286 287 288 289 290 291 292 293 294 295 296 297 298 299\n",
      " 300 301 302 303 304 305 306 307 308 309 310 311 312 313 314 315 316 317\n",
      " 318 319 320 321 322 323 324 325 326 327 328 329 330 331 332 333 334 335\n",
      " 336 337 338 339 340 341 342 343 344 345 346 347 348 349 350 351 352 353\n",
      " 354 355 356 357 358 359 360 361 362 363 364 365 366 367 368]\n"
     ]
    },
    {
     "data": {
      "text/plain": [
       "<Axes: xlabel='pos', ylabel='read_name'>"
      ]
     },
     "execution_count": 4,
     "metadata": {},
     "output_type": "execute_result"
    },
    {
     "data": {
      "image/png": "[encoded data removed]",
      "text/plain": [
       "<Figure size 640x480 with 1 Axes>"
      ]
     },
     "metadata": {},
     "output_type": "display_data"
    }
   ],
   "source": [
    "plot_single_reads.plot_single_reads_rectangle(\n",
    "    mod_file_name='/clusterfs/nilah/oberon/datasets/dimelo_mA-mGpC/20230702_jm_lmnb1_acessibility_redux/megalodon_all_context/mod_mappings.01.chr1_1MB.h5',\n",
    "    bed_file_name='/clusterfs/nilah/oberon/datasets/dimelo_mA-mGpC/20230702_jm_lmnb1_acessibility_redux/megalodon_all_context/chr1_1MB.bed',\n",
    "    mod_names=['A,0','CG,0','GCH,1'])"
   ]
  },
  {
   "cell_type": "code",
   "execution_count": null,
   "id": "e3998070",
   "metadata": {},
   "outputs": [],
   "source": [
    "with(output_h5_1,'w') as f:\n",
    "    pass\n",
    "with(output_h5_2,'w') as f:\n",
    "    pass\n",
    "\n",
    "utils.read_by_base_txt_to_hdf5(\n",
    "    input_txt_1,\n",
    "    output_h5_1,\n",
    "    'A,0',\n",
    "    0.5,\n",
    ")"
   ]
  },
  {
   "cell_type": "code",
   "execution_count": 3,
   "id": "8b9dc669",
   "metadata": {},
   "outputs": [
    {
     "ename": "KeyboardInterrupt",
     "evalue": "",
     "output_type": "error",
     "traceback": [
      "\u001b[0;31m---------------------------------------------------------------------------\u001b[0m",
      "\u001b[0;31mKeyboardInterrupt\u001b[0m                         Traceback (most recent call last)",
      "Cell \u001b[0;32mIn[3], line 1\u001b[0m\n\u001b[0;32m----> 1\u001b[0m \u001b[43mutils\u001b[49m\u001b[38;5;241;43m.\u001b[39;49m\u001b[43mread_by_base_txt_to_hdf5\u001b[49m\u001b[43m(\u001b[49m\n\u001b[1;32m      2\u001b[0m \u001b[43m    \u001b[49m\u001b[43minput_txt_2\u001b[49m\u001b[43m,\u001b[49m\n\u001b[1;32m      3\u001b[0m \u001b[43m    \u001b[49m\u001b[43moutput_h5_2\u001b[49m\u001b[43m,\u001b[49m\n\u001b[1;32m      4\u001b[0m \u001b[43m    \u001b[49m\u001b[38;5;124;43m'\u001b[39;49m\u001b[38;5;124;43mA,0\u001b[39;49m\u001b[38;5;124;43m'\u001b[39;49m\u001b[43m,\u001b[49m\n\u001b[1;32m      5\u001b[0m \u001b[43m    \u001b[49m\u001b[38;5;241;43m0.9\u001b[39;49m\u001b[43m,\u001b[49m\n\u001b[1;32m      6\u001b[0m \u001b[43m)\u001b[49m\n",
      "File \u001b[0;32m/clusterfs/nilah/oberon/repos/dimelo_modkit_parsing/dimelo/prototyping/utils.py:49\u001b[0m, in \u001b[0;36mread_by_base_txt_to_hdf5\u001b[0;34m(input_txt, output_h5, basemod, thresh)\u001b[0m\n\u001b[1;32m     47\u001b[0m \u001b[38;5;28;01mwith\u001b[39;00m \u001b[38;5;28mopen\u001b[39m(input_txt) \u001b[38;5;28;01mas\u001b[39;00m txt:\n\u001b[1;32m     48\u001b[0m     \u001b[38;5;28;01mfor\u001b[39;00m index,line \u001b[38;5;129;01min\u001b[39;00m \u001b[38;5;28menumerate\u001b[39m(txt):\n\u001b[0;32m---> 49\u001b[0m         fields \u001b[38;5;241m=\u001b[39m line\u001b[38;5;241m.\u001b[39msplit(\u001b[38;5;124m'\u001b[39m\u001b[38;5;130;01m\\t\u001b[39;00m\u001b[38;5;124m'\u001b[39m)\n\u001b[1;32m     50\u001b[0m         \u001b[38;5;28;01mif\u001b[39;00m index\u001b[38;5;241m>\u001b[39m\u001b[38;5;241m0\u001b[39m \u001b[38;5;129;01mand\u001b[39;00m read_name\u001b[38;5;241m!=\u001b[39mfields[\u001b[38;5;241m0\u001b[39m]:\n\u001b[1;32m     51\u001b[0m             read_name \u001b[38;5;241m=\u001b[39m fields[\u001b[38;5;241m0\u001b[39m]\n",
      "\u001b[0;31mKeyboardInterrupt\u001b[0m: "
     ]
    }
   ],
   "source": []
  },
  {
   "cell_type": "code",
   "execution_count": null,
   "id": "9f35d74a",
   "metadata": {},
   "outputs": [],
   "source": []
  }
 ],
 "metadata": {
  "kernelspec": {
   "display_name": "dimelo_modkit_3.11",
   "language": "python",
   "name": "dimelo_modkit_3.11"
  },
  "language_info": {
   "codemirror_mode": {
    "name": "ipython",
    "version": 3
   },
   "file_extension": ".py",
   "mimetype": "text/x-python",
   "name": "python",
   "nbconvert_exporter": "python",
   "pygments_lexer": "ipython3",
   "version": "3.11.7"
  }
 },
 "nbformat": 4,
 "nbformat_minor": 5
}
