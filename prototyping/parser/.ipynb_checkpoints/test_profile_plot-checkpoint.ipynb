{
 "cells": [
  {
   "cell_type": "code",
   "execution_count": 1,
   "id": "58bc2159",
   "metadata": {},
   "outputs": [],
   "source": [
    "import parser\n",
    "import sys\n",
    "import os\n",
    "\n",
    "# Get the directory one level up\n",
    "parent_dir = os.path.dirname(os.getcwd())\n",
    "\n",
    "# Add the parent directory to sys.path\n",
    "sys.path.append(parent_dir)\n",
    "import plot_enrichment_profile"
   ]
  },
  {
   "cell_type": "code",
   "execution_count": null,
   "id": "f1c1f147",
   "metadata": {},
   "outputs": [],
   "source": [
    "print(parser.parse_bam_modkit_pileup(\n",
    "    '/clusterfs/nilah/oberon/datasets/dimelo_mA-mGpC/20230702_jm_lmnb1_acessibility_redux/megalodon_all_context/mod_mappings.01.retagged.ma.sorted.bam',\n",
    "    '/clusterfs/nilah/oberon/datasets/dimelo_mA-mGpC/20230702_jm_lmnb1_acessibility_redux/megalodon_all_context',\n",
    "    'mod_mappings.01.parser',\n",
    "    'chr1:0-250000000',\n",
    "    '/clusterfs/nilah/oberon/genomes/chm13.draft_v1.1.fasta',\n",
    "    0.9,\n",
    "))"
   ]
  },
  {
   "cell_type": "code",
   "execution_count": 2,
   "id": "bc1ceab0",
   "metadata": {},
   "outputs": [
    {
     "name": "stderr",
     "output_type": "stream",
     "text": [
      "> parsed user-input threshold 0.9 for mod-code a\n",
      "> parsed user-input threshold 0.9 for mod-code m\n",
      "> specifying a motif (including --cpg) outputs only mapped sites\n",
      "> found BAM index, processing reads in 100000 base pair chunks\n",
      "> processed 29354 reads, 3551113 rows, skipped ~294 reads, failed ~0 reads\n"
     ]
    },
    {
     "name": "stdout",
     "output_type": "stream",
     "text": [
      "0\n"
     ]
    }
   ],
   "source": [
    "print(parser.parse_bam_modkit_extract(\n",
    "    '/clusterfs/nilah/oberon/datasets/dimelo_mA-mGpC/20230702_jm_lmnb1_acessibility_redux/megalodon_all_context/mod_mappings.01.retagged.ma.sorted.bam',\n",
    "    '/clusterfs/nilah/oberon/datasets/dimelo_mA-mGpC/20230702_jm_lmnb1_acessibility_redux/megalodon_all_context',\n",
    "    'mod_mappings.01.parser',\n",
    "    'chr1:0-250000000',\n",
    "    '/clusterfs/nilah/oberon/genomes/chm13.draft_v1.1.fasta',\n",
    "    0.9,\n",
    "))"
   ]
  },
  {
   "cell_type": "code",
   "execution_count": 2,
   "id": "f351c506",
   "metadata": {},
   "outputs": [
    {
     "ename": "OSError",
     "evalue": "file `mod_mappings.01.parser.sorted.bed.gz` not found",
     "output_type": "error",
     "traceback": [
      "\u001b[0;31m---------------------------------------------------------------------------\u001b[0m",
      "\u001b[0;31mOSError\u001b[0m                                   Traceback (most recent call last)",
      "Cell \u001b[0;32mIn[2], line 1\u001b[0m\n\u001b[0;32m----> 1\u001b[0m \u001b[38;5;28mprint\u001b[39m(\u001b[43mplot_enrichment_profile\u001b[49m\u001b[38;5;241;43m.\u001b[39;49m\u001b[43mextract_vector_from_bedmethyl\u001b[49m\u001b[43m(\u001b[49m\n\u001b[1;32m      2\u001b[0m \u001b[43m    \u001b[49m\u001b[43mbedmethyl_file\u001b[49m\u001b[43m \u001b[49m\u001b[38;5;241;43m=\u001b[39;49m\u001b[43m \u001b[49m\u001b[38;5;124;43m'\u001b[39;49m\u001b[38;5;124;43mmod_mappings.01.parser.sorted.bed.gz\u001b[39;49m\u001b[38;5;124;43m'\u001b[39;49m\u001b[43m,\u001b[49m\n\u001b[1;32m      3\u001b[0m \u001b[43m    \u001b[49m\u001b[43mbed_file\u001b[49m\u001b[43m \u001b[49m\u001b[38;5;241;43m=\u001b[39;49m\u001b[43m \u001b[49m\u001b[38;5;124;43m'\u001b[39;49m\u001b[38;5;124;43m/clusterfs/nilah/oberon/datasets/ctcf_peaks/ENCFF797SDL.chm13v1.1.bed\u001b[39;49m\u001b[38;5;124;43m'\u001b[39;49m\u001b[43m,\u001b[49m\n\u001b[1;32m      4\u001b[0m \u001b[43m    \u001b[49m\u001b[43mmod_name\u001b[49m\u001b[43m \u001b[49m\u001b[38;5;241;43m=\u001b[39;49m\u001b[43m \u001b[49m\u001b[38;5;124;43m'\u001b[39;49m\u001b[38;5;124;43mCG\u001b[39;49m\u001b[38;5;124;43m'\u001b[39;49m\u001b[43m,\u001b[49m\n\u001b[1;32m      5\u001b[0m \u001b[43m    \u001b[49m\u001b[43mwindow_size\u001b[49m\u001b[43m \u001b[49m\u001b[38;5;241;43m=\u001b[39;49m\u001b[43m \u001b[49m\u001b[38;5;241;43m100\u001b[39;49m\u001b[43m,\u001b[49m\n\u001b[1;32m      6\u001b[0m \u001b[43m)\u001b[49m)\n",
      "File \u001b[0;32m/clusterfs/nilah/oberon/repos/dimelo_modkit_parsing/dimelo/prototyping/plot_enrichment_profile.py:44\u001b[0m, in \u001b[0;36mextract_vector_from_bedmethyl\u001b[0;34m(bedmethyl_file, bed_file, mod_name, window_size)\u001b[0m\n\u001b[1;32m     24\u001b[0m \u001b[38;5;28;01mdef\u001b[39;00m \u001b[38;5;21mextract_vector_from_bedmethyl\u001b[39m(bedmethyl_file: Path,\n\u001b[1;32m     25\u001b[0m                                   bed_file: Path,\n\u001b[1;32m     26\u001b[0m                                   mod_name: \u001b[38;5;28mstr\u001b[39m,\n\u001b[1;32m     27\u001b[0m                                  window_size: \u001b[38;5;28mint\u001b[39m) \u001b[38;5;241m-\u001b[39m\u001b[38;5;241m>\u001b[39m np\u001b[38;5;241m.\u001b[39mndarray:\n\u001b[1;32m     28\u001b[0m \u001b[38;5;250m    \u001b[39m\u001b[38;5;124;03m\"\"\"\u001b[39;00m\n\u001b[1;32m     29\u001b[0m \u001b[38;5;124;03m    Generate trace for the specified modification aggregated across all regions in the given bed file.\u001b[39;00m\n\u001b[1;32m     30\u001b[0m \n\u001b[0;32m   (...)\u001b[0m\n\u001b[1;32m     42\u001b[0m \u001b[38;5;124;03m        vector of fraction modifiied bases (e.g. mA/A) calculated for each position; float values between 0 and 1\u001b[39;00m\n\u001b[1;32m     43\u001b[0m \u001b[38;5;124;03m    \"\"\"\u001b[39;00m\n\u001b[0;32m---> 44\u001b[0m     source_tabix \u001b[38;5;241m=\u001b[39m \u001b[43mpysam\u001b[49m\u001b[38;5;241;43m.\u001b[39;49m\u001b[43mTabixFile\u001b[49m\u001b[43m(\u001b[49m\u001b[43mbedmethyl_file\u001b[49m\u001b[43m)\u001b[49m\n\u001b[1;32m     45\u001b[0m     valid_base_counts \u001b[38;5;241m=\u001b[39m np\u001b[38;5;241m.\u001b[39mzeros(window_size\u001b[38;5;241m*\u001b[39m\u001b[38;5;241m2\u001b[39m)\n\u001b[1;32m     46\u001b[0m     modified_base_counts \u001b[38;5;241m=\u001b[39m np\u001b[38;5;241m.\u001b[39mzeros(window_size\u001b[38;5;241m*\u001b[39m\u001b[38;5;241m2\u001b[39m)\n",
      "File \u001b[0;32m~/.conda/envs/dimelo_modkit_3.11/lib/python3.11/site-packages/pysam/libctabix.pyx:349\u001b[0m, in \u001b[0;36mpysam.libctabix.TabixFile.__cinit__\u001b[0;34m()\u001b[0m\n",
      "File \u001b[0;32m~/.conda/envs/dimelo_modkit_3.11/lib/python3.11/site-packages/pysam/libctabix.pyx:378\u001b[0m, in \u001b[0;36mpysam.libctabix.TabixFile._open\u001b[0;34m()\u001b[0m\n",
      "\u001b[0;31mOSError\u001b[0m: file `mod_mappings.01.parser.sorted.bed.gz` not found"
     ]
    }
   ],
   "source": [
    "print(plot_enrichment_profile.extract_vector_from_bedmethyl(\n",
    "    bedmethyl_file = '/clusterfs/nilah/oberon/datasets/dimelo_mA-mGpC/20230702_jm_lmnb1_acessibility_redux/megalodon_all_context/mod_mappings.01.parser.sorted.bed.gz',\n",
    "    bed_file = '/clusterfs/nilah/oberon/datasets/ctcf_peaks/ENCFF797SDL.chm13v1.1.bed',\n",
    "    mod_name = 'CG',\n",
    "    window_size = 100,\n",
    "))"
   ]
  },
  {
   "cell_type": "code",
   "execution_count": null,
   "id": "7306b9e5",
   "metadata": {},
   "outputs": [],
   "source": []
  }
 ],
 "metadata": {
  "kernelspec": {
   "display_name": "dimelo_modkit_3.11",
   "language": "python",
   "name": "dimelo_modkit_3.11"
  },
  "language_info": {
   "codemirror_mode": {
    "name": "ipython",
    "version": 3
   },
   "file_extension": ".py",
   "mimetype": "text/x-python",
   "name": "python",
   "nbconvert_exporter": "python",
   "pygments_lexer": "ipython3",
   "version": "3.11.7"
  }
 },
 "nbformat": 4,
 "nbformat_minor": 5
}
