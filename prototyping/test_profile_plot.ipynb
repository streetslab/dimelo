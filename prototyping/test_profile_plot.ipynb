{
 "cells": [
  {
   "cell_type": "code",
   "execution_count": 1,
   "id": "856954af",
   "metadata": {},
   "outputs": [],
   "source": [
    "import parser\n",
    "import plot_enrichment_profile"
   ]
  },
  {
   "cell_type": "code",
   "execution_count": 2,
   "id": "2e9ee369",
   "metadata": {},
   "outputs": [
    {
     "name": "stdout",
     "output_type": "stream",
     "text": [
      "CompletedProcess(args=['ls', '-l'], returncode=0, stdout='total 16\\ndrwxr-sr-x 1 dixonluinenburg fc_nilah  480 Jan  3 09:37 __pycache__\\n-rw-r--r-- 1 dixonluinenburg fc_nilah  167 Jan  3 09:26 parser.py\\n-rw-r--r-- 1 dixonluinenburg fc_nilah 6462 Jan  3 09:37 plot_enrichment_profile.py\\n-rw-r--r-- 1 dixonluinenburg fc_nilah 2634 Jan  3 09:33 test_data.py\\n-rw-r--r-- 1 dixonluinenburg fc_nilah 2712 Jan  3 09:36 test_profile_plot.ipynb\\n-rw-r--r-- 1 dixonluinenburg fc_nilah    0 Jan  3 09:22 utils.py\\n', stderr='')\n"
     ]
    }
   ],
   "source": [
    "print(parser.parse_bam_modkit(0,0))"
   ]
  },
  {
   "cell_type": "code",
   "execution_count": null,
   "id": "d6ee6997",
   "metadata": {},
   "outputs": [],
   "source": []
  }
 ],
 "metadata": {
  "kernelspec": {
   "display_name": "dimelo_arbitrary_basemod_dev",
   "language": "python",
   "name": "dimelo_arbitrary_basemod_dev"
  },
  "language_info": {
   "codemirror_mode": {
    "name": "ipython",
    "version": 3
   },
   "file_extension": ".py",
   "mimetype": "text/x-python",
   "name": "python",
   "nbconvert_exporter": "python",
   "pygments_lexer": "ipython3",
   "version": "3.7.11"
  }
 },
 "nbformat": 4,
 "nbformat_minor": 5
}
