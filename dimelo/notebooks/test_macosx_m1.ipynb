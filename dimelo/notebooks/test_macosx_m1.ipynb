{
 "cells": [
  {
   "cell_type": "code",
   "execution_count": 1,
   "metadata": {},
   "outputs": [
    {
     "ename": "ModuleNotFoundError",
     "evalue": "No module named 'parser'",
     "output_type": "error",
     "traceback": [
      "\u001b[0;31m---------------------------------------------------------------------------\u001b[0m",
      "\u001b[0;31mModuleNotFoundError\u001b[0m                       Traceback (most recent call last)",
      "Cell \u001b[0;32mIn[1], line 1\u001b[0m\n\u001b[0;32m----> 1\u001b[0m \u001b[39mimport\u001b[39;00m \u001b[39mparser\u001b[39;00m\n\u001b[1;32m      2\u001b[0m \u001b[39mimport\u001b[39;00m \u001b[39msys\u001b[39;00m\n\u001b[1;32m      3\u001b[0m \u001b[39mimport\u001b[39;00m \u001b[39mos\u001b[39;00m\n",
      "\u001b[0;31mModuleNotFoundError\u001b[0m: No module named 'parser'"
     ]
    }
   ],
   "source": [
    "import parser\n",
    "import sys\n",
    "import os\n",
    "import matplotlib.pyplot as plt\n",
    "import pysam\n",
    "\n",
    "# Get the directory one level up\n",
    "parent_dir = os.path.dirname(os.getcwd())\n",
    "\n",
    "# Add the parent directory to sys.path\n",
    "sys.path.append(parent_dir)\n",
    "sys.path.append(parent_dir/'parser')\n",
    "import plot_enrichment_profile\n",
    "import utils\n",
    "import test"
   ]
  },
  {
   "cell_type": "code",
   "execution_count": 6,
   "metadata": {},
   "outputs": [
    {
     "name": "stdout",
     "output_type": "stream",
     "text": [
      "No output directory provided, using input directory /Users/oberondixon-luinenburg/Documents/Ioannidis-Streets/dimelo_test_data/20230702_jm_lmnb1_acessibility_redux\n",
      "Processing from ENCFF797SDL.chm13v1.1.bed using even 500bp windows in either direction from bed region centers.\n",
      "Writing new bed file ENCFF797SDL.chm13v1.1.windowed500-for-pileup.bed\n",
      "Warning: 32 cores request, 8 available. Allocating 8\n",
      "Modification threshold of 0.9 will be treated as coming from range 0-1.\n"
     ]
    },
    {
     "name": "stderr",
     "output_type": "stream",
     "text": [
      "> parsed user-input threshold 0.9 for mod-code m\n",
      "> parsed user-input threshold 0.9 for mod-code a\n",
      "> parsing BED at /Users/oberondixon-luinenburg/Documents/Ioannidis-Streets/dimelo_test_data/20230702_jm_lmnb1_acessibility_redux/processed/ENCFF797SDL.chm13v1.1.windowed500-for-pileup.bed\n",
      "> processed 41861 BED lines\n",
      "> calculated chunk size: 12, interval size 100000, processing 1200000 positions concurrently\n",
      "> Using filter threshold 0.9 for mod code m.\n",
      "> Using filter threshold 0.9 for mod code a.\n",
      "> Done, processed 0 rows. Processed ~0 reads and skipped zero reads.\n"
     ]
    }
   ],
   "source": [
    "num_cores = 32\n",
    "two_color_2023_chip = parser.parse_bam_modkit_pileup(\n",
    "    input_file='/Users/oberondixon-luinenburg/Documents/Ioannidis-Streets/dimelo_test_data/20230702_jm_lmnb1_acessibility_redux/mod_mappings.01.sorted.retagged.bam',\n",
    "    output_name='processed',\n",
    "    ref_genome='/Users/oberondixon-luinenburg/Documents/Ioannidis-Streets/dimelo_test_data/20230702_jm_lmnb1_acessibility_redux/chm13.draft_v1.1.fasta',\n",
    "    bed_file='/Users/oberondixon-luinenburg/Documents/Ioannidis-Streets/dimelo_test_data/20230702_jm_lmnb1_acessibility_redux/ENCFF797SDL.chm13v1.1.bed',\n",
    "    thresh=0.9,\n",
    "    window_size=500,\n",
    "    cores=num_cores\n",
    ")"
   ]
  }
 ],
 "metadata": {
  "kernelspec": {
   "display_name": "dimelo_modkit",
   "language": "python",
   "name": "python3"
  },
  "language_info": {
   "codemirror_mode": {
    "name": "ipython",
    "version": 3
   },
   "file_extension": ".py",
   "mimetype": "text/x-python",
   "name": "python",
   "nbconvert_exporter": "python",
   "pygments_lexer": "ipython3",
   "version": "3.11.7"
  },
  "orig_nbformat": 4,
  "vscode": {
   "interpreter": {
    "hash": "e96b48d7c05de07bf67925085a75e3ed3d6f9381a612e1c1f3d71804291f83fa"
   }
  }
 },
 "nbformat": 4,
 "nbformat_minor": 2
}
